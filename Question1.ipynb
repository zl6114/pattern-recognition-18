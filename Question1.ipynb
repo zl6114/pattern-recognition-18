{
  "cells": [
    {
      "metadata": {
        "collapsed": true
      },
      "cell_type": "markdown",
      "source": "# Coursework 1\n\n## Question 1.a\nPartition the provided face data into your training and testing data, in a way you choose.\nExplain briefly the way you partitioned. Apply PCA to your training data i.e. compute the\neigenvectors and eigenvalues of the covariance matrix S=(1/N)AA T directly. Show and discuss, including: the eigenvectors and eigenvalues, the mean image, how many\neigenvectors are with non-zero eigenvalues, and how many eigenvectors are to be used\nfor face recognition. Give physical meanings behind your answers."
    },
    {
      "metadata": {},
      "cell_type": "markdown",
      "source": "### Loading Face Dataset"
    },
    {
      "metadata": {
        "trusted": true
      },
      "cell_type": "code",
      "source": "import scipy.io as sio\nimport numpy as np\nimport matplotlib.pyplot as plt\n\nmat_content = sio.loadmat( 'face(1).mat' )\n\nmat_content",
      "execution_count": 2,
      "outputs": [
        {
          "output_type": "execute_result",
          "execution_count": 2,
          "data": {
            "text/plain": "{'X': array([[106, 130, 191, ...,  70, 183,  77],\n        [103, 129, 185, ...,  62, 250,  72],\n        [103, 130, 174, ...,  83, 163,  68],\n        ...,\n        [ 37,  40,  22, ...,  87, 102,  93],\n        [ 36,  36,  19, ...,  89,  95, 103],\n        [ 41,  35,  17, ...,  94, 106, 110]], dtype=uint8),\n '__globals__': [],\n '__header__': b'MATLAB 5.0 MAT-file, Platform: PCWIN, Created on: Sat May 27 02:07:24 2006',\n '__version__': '1.0',\n 'l': array([[ 1,  1,  1,  1,  1,  1,  1,  1,  1,  1,  2,  2,  2,  2,  2,  2,\n          2,  2,  2,  2,  3,  3,  3,  3,  3,  3,  3,  3,  3,  3,  4,  4,\n          4,  4,  4,  4,  4,  4,  4,  4,  5,  5,  5,  5,  5,  5,  5,  5,\n          5,  5,  6,  6,  6,  6,  6,  6,  6,  6,  6,  6,  7,  7,  7,  7,\n          7,  7,  7,  7,  7,  7,  8,  8,  8,  8,  8,  8,  8,  8,  8,  8,\n          9,  9,  9,  9,  9,  9,  9,  9,  9,  9, 10, 10, 10, 10, 10, 10,\n         10, 10, 10, 10, 11, 11, 11, 11, 11, 11, 11, 11, 11, 11, 12, 12,\n         12, 12, 12, 12, 12, 12, 12, 12, 13, 13, 13, 13, 13, 13, 13, 13,\n         13, 13, 14, 14, 14, 14, 14, 14, 14, 14, 14, 14, 15, 15, 15, 15,\n         15, 15, 15, 15, 15, 15, 16, 16, 16, 16, 16, 16, 16, 16, 16, 16,\n         17, 17, 17, 17, 17, 17, 17, 17, 17, 17, 18, 18, 18, 18, 18, 18,\n         18, 18, 18, 18, 19, 19, 19, 19, 19, 19, 19, 19, 19, 19, 20, 20,\n         20, 20, 20, 20, 20, 20, 20, 20, 21, 21, 21, 21, 21, 21, 21, 21,\n         21, 21, 22, 22, 22, 22, 22, 22, 22, 22, 22, 22, 23, 23, 23, 23,\n         23, 23, 23, 23, 23, 23, 24, 24, 24, 24, 24, 24, 24, 24, 24, 24,\n         25, 25, 25, 25, 25, 25, 25, 25, 25, 25, 26, 26, 26, 26, 26, 26,\n         26, 26, 26, 26, 27, 27, 27, 27, 27, 27, 27, 27, 27, 27, 28, 28,\n         28, 28, 28, 28, 28, 28, 28, 28, 29, 29, 29, 29, 29, 29, 29, 29,\n         29, 29, 30, 30, 30, 30, 30, 30, 30, 30, 30, 30, 31, 31, 31, 31,\n         31, 31, 31, 31, 31, 31, 32, 32, 32, 32, 32, 32, 32, 32, 32, 32,\n         33, 33, 33, 33, 33, 33, 33, 33, 33, 33, 34, 34, 34, 34, 34, 34,\n         34, 34, 34, 34, 35, 35, 35, 35, 35, 35, 35, 35, 35, 35, 36, 36,\n         36, 36, 36, 36, 36, 36, 36, 36, 37, 37, 37, 37, 37, 37, 37, 37,\n         37, 37, 38, 38, 38, 38, 38, 38, 38, 38, 38, 38, 39, 39, 39, 39,\n         39, 39, 39, 39, 39, 39, 40, 40, 40, 40, 40, 40, 40, 40, 40, 40,\n         41, 41, 41, 41, 41, 41, 41, 41, 41, 41, 42, 42, 42, 42, 42, 42,\n         42, 42, 42, 42, 43, 43, 43, 43, 43, 43, 43, 43, 43, 43, 44, 44,\n         44, 44, 44, 44, 44, 44, 44, 44, 45, 45, 45, 45, 45, 45, 45, 45,\n         45, 45, 46, 46, 46, 46, 46, 46, 46, 46, 46, 46, 47, 47, 47, 47,\n         47, 47, 47, 47, 47, 47, 48, 48, 48, 48, 48, 48, 48, 48, 48, 48,\n         49, 49, 49, 49, 49, 49, 49, 49, 49, 49, 50, 50, 50, 50, 50, 50,\n         50, 50, 50, 50, 51, 51, 51, 51, 51, 51, 51, 51, 51, 51, 52, 52,\n         52, 52, 52, 52, 52, 52, 52, 52]], dtype=uint8)}"
          },
          "metadata": {}
        }
      ]
    },
    {
      "metadata": {},
      "cell_type": "markdown",
      "source": "* __X__ contains the face data, where each column of __X__ is a one image from a total of 520 images.\n* __l__ contains the label/face identity of each image"
    },
    {
      "metadata": {
        "trusted": true
      },
      "cell_type": "code",
      "source": "face_data = mat_content[ 'X' ]\n\nprint( face_data.shape )",
      "execution_count": 6,
      "outputs": [
        {
          "output_type": "stream",
          "text": "(2576, 520)\n",
          "name": "stdout"
        }
      ]
    },
    {
      "metadata": {},
      "cell_type": "markdown",
      "source": "Each image is a column that is 2576 values long."
    },
    {
      "metadata": {
        "trusted": true
      },
      "cell_type": "code",
      "source": "face_157 = face_data[:,157]\n\nprint(face_157.shape)\nprint(face_157)",
      "execution_count": 7,
      "outputs": [
        {
          "output_type": "stream",
          "text": "(2576,)\n[ 55  55  54 ... 168 168 174]\n",
          "name": "stdout"
        }
      ]
    },
    {
      "metadata": {
        "trusted": true
      },
      "cell_type": "code",
      "source": "# face data is in 46x56 format\n\nface_157 = np.reshape(face_157,(46,56))\n\nplt.imshow(face_157, cmap = 'gist_gray')",
      "execution_count": 10,
      "outputs": [
        {
          "output_type": "execute_result",
          "execution_count": 10,
          "data": {
            "text/plain": "<matplotlib.image.AxesImage at 0x7f83f14d60b8>"
          },
          "metadata": {}
        },
        {
          "output_type": "display_data",
          "data": {
            "image/png": "[encoded data removed]",
            "text/plain": "<matplotlib.figure.Figure at 0x7f83f157e0f0>"
          },
          "metadata": {}
        }
      ]
    },
    {
      "metadata": {
        "trusted": true
      },
      "cell_type": "code",
      "source": "face_157 = face_157.T\nplt.imshow(face_157,cmap = 'gist_gray')",
      "execution_count": 11,
      "outputs": [
        {
          "output_type": "execute_result",
          "execution_count": 11,
          "data": {
            "text/plain": "<matplotlib.image.AxesImage at 0x7f83f14ae668>"
          },
          "metadata": {}
        },
        {
          "output_type": "display_data",
          "data": {
            "image/png": "[encoded data removed]",
            "text/plain": "<matplotlib.figure.Figure at 0x7f83f1520438>"
          },
          "metadata": {}
        }
      ]
    },
    {
      "metadata": {
        "trusted": true
      },
      "cell_type": "code",
      "source": "face_labels = mat_content['l']\nprint(face_labels[0,157])",
      "execution_count": 12,
      "outputs": [
        {
          "output_type": "stream",
          "text": "16\n",
          "name": "stdout"
        }
      ]
    },
    {
      "metadata": {},
      "cell_type": "markdown",
      "source": "___\n### Splitting into Training and Test Sets\nIf the number of values belonging to each class are unbalanced, stratified sampling is a good thing, since it keeps the class proportions in the training and test sets from the whole dataset.\n\nFor this dataset, we have 520 images, but 52 faces. Each identity has 10 images, so we have balanced classes. As such, a purely random shuffle should give a fair test and train split.\n\nFrom [StackOverflow: Stratified Sampling Necessary?](https://datascience.stackexchange.com/questions/16265/is-stratified-sampling-necessary-random-forest-python)"
    },
    {
      "metadata": {
        "trusted": true
      },
      "cell_type": "code",
      "source": "print( face_data.shape )",
      "execution_count": 18,
      "outputs": [
        {
          "output_type": "stream",
          "text": "(2576, 520)\n",
          "name": "stdout"
        }
      ]
    },
    {
      "metadata": {},
      "cell_type": "markdown",
      "source": "#### Reshaping Data Set\nPersonally, I find it weird having each image in a column as opposed to a row. In my head, it makes much more sense of each image was in a row.\n\nTranpose the dataset, so we have __520__ rows, each one __2576__ long containing a face image."
    },
    {
      "metadata": {
        "trusted": true
      },
      "cell_type": "code",
      "source": "face_data_row = face_data.T\nprint( face_data_row.shape )",
      "execution_count": 20,
      "outputs": [
        {
          "output_type": "stream",
          "text": "(520, 2576)\n",
          "name": "stdout"
        }
      ]
    },
    {
      "metadata": {
        "trusted": true
      },
      "cell_type": "code",
      "source": "from sklearn.model_selection import train_test_split\n\ntrain_set, test_set = train_test_split( face_data_row, test_size = 0.2, random_state = 42 )",
      "execution_count": 21,
      "outputs": []
    },
    {
      "metadata": {
        "trusted": true
      },
      "cell_type": "code",
      "source": "print( 'Train Set: {}, Percentage: {} %'.format( train_set.shape, 100*train_set.shape[0] / face_data_row.shape[ 0 ] ) )\nprint( 'Test  Set: {}, Percentage: {} %'.format( test_set.shape, 100*test_set.shape[0] / face_data_row.shape[ 0 ]) )",
      "execution_count": 29,
      "outputs": [
        {
          "output_type": "stream",
          "text": "Train Set: (416, 2576), Percentage: 80.0 %\nTest  Set: (104, 2576), Percentage: 20.0 %\n",
          "name": "stdout"
        }
      ]
    },
    {
      "metadata": {},
      "cell_type": "markdown",
      "source": "#### Dataset with labels\nIt might be a good idea to have the identity labels attached to the dataset"
    },
    {
      "metadata": {
        "trusted": true
      },
      "cell_type": "code",
      "source": "face_data_labels = mat_content[ 'l' ]\n\nprint( 'Face Data Shape: {}'.format( face_data.shape ) )\nprint( 'Face Data Labels Shape: {}'.format( face_data_labels.shape ) )",
      "execution_count": 34,
      "outputs": [
        {
          "output_type": "stream",
          "text": "Face Data Shape: (2576, 520)\nFace Data Labels Shape: (1, 520)\n",
          "name": "stdout"
        }
      ]
    },
    {
      "metadata": {
        "trusted": true
      },
      "cell_type": "code",
      "source": "faceDataLabeled = np.vstack( ( face_data, face_data_labels ) )\n\nprint( 'Face Data Labeled Shape: {}'.format( faceDataLabeled.shape ) )",
      "execution_count": 51,
      "outputs": [
        {
          "output_type": "stream",
          "text": "Face Data Labeled Shape: (2577, 520)\n",
          "name": "stdout"
        }
      ]
    },
    {
      "metadata": {},
      "cell_type": "markdown",
      "source": "We now have a dataset __faceDataLabeled__ which contains the images with their identities in the bottom-most row."
    },
    {
      "metadata": {
        "trusted": true
      },
      "cell_type": "code",
      "source": "rowLabel = faceDataLabeled[ 2576 ]",
      "execution_count": 64,
      "outputs": []
    },
    {
      "metadata": {},
      "cell_type": "markdown",
      "source": "___\n### Applying PCA \nWe dont actually need class labels for PCA analysis, so we can use the **train_set** data set instead of the __faceDataLabeled__ data set.\n\n#### Calculate d-dimensional mean vector\nWe have 2576 dimensions, need to calculate the mean for each dimension to get the mean face."
    },
    {
      "metadata": {
        "trusted": true
      },
      "cell_type": "code",
      "source": "train_set[ : 1] # Access a row\n\nprint( train_set[ : , 1 ].shape ) # Access a column",
      "execution_count": 79,
      "outputs": [
        {
          "output_type": "stream",
          "text": "(416,)\n",
          "name": "stdout"
        }
      ]
    },
    {
      "metadata": {
        "trusted": true
      },
      "cell_type": "code",
      "source": "# Some dirty list comprehension below. Essentially iterate over the columns in the train_set and calculate\n# mean for each column ( d means )\nmean_face_row = np.array( [ [ np.mean( train_set[ : ,col ] ) for col in range( train_set.shape[ 1 ] ) ] ] ) \n\nprint( 'Mean Vector: \\n {}'.format( mean_face_row ) )",
      "execution_count": 108,
      "outputs": [
        {
          "output_type": "stream",
          "text": "Mean Vector: \n [[124.06971154 123.26682692 121.08413462 ...  85.33653846  83.44711538\n   81.86298077]]\n",
          "name": "stdout"
        }
      ]
    },
    {
      "metadata": {
        "trusted": true
      },
      "cell_type": "code",
      "source": "mean_face_img = np.reshape(mean_face_row,(46,56))\n\nplt.imshow( mean_face_img.T, cmap = 'gist_gray')",
      "execution_count": 104,
      "outputs": [
        {
          "output_type": "execute_result",
          "execution_count": 104,
          "data": {
            "text/plain": "<matplotlib.image.AxesImage at 0x7f83efdefa58>"
          },
          "metadata": {}
        },
        {
          "output_type": "display_data",
          "data": {
            "image/png": "[encoded data removed]",
            "text/plain": "<matplotlib.figure.Figure at 0x7f83f01f0828>"
          },
          "metadata": {}
        }
      ]
    },
    {
      "metadata": {},
      "cell_type": "markdown",
      "source": "#### Computing Covariance Matrix"
    },
    {
      "metadata": {
        "trusted": true
      },
      "cell_type": "code",
      "source": "cov_mat = np.cov( [ col for col in train_set.T ] )\n\nprint( 'Shape of cov_mat: {}'.format( cov_mat.shape ) )",
      "execution_count": 114,
      "outputs": [
        {
          "output_type": "stream",
          "text": "Shape of cov_mat: (2576, 2576)\n",
          "name": "stdout"
        }
      ]
    },
    {
      "metadata": {},
      "cell_type": "markdown",
      "source": "The covariance matrix contains the covariance between each pair of features, all 2576 of them, resulting in a $2576\\times2576$ matrix. Along the main diagonal of the matrix, we have the variance of the feature.\n\nThe mean vector is often referred to as the centroid and the variance-covariance matrix as the dispersion or dispersion matrix. Also, the terms variance-covariance matrix and covariance matrix are used interchangeably. \n\n[Mean Vector and Covariance Matrix](https://www.itl.nist.gov/div898/handbook/pmc/section5/pmc541.htm)"
    },
    {
      "metadata": {},
      "cell_type": "markdown",
      "source": "#### Computing Eigenvectors and corresponding eigenvalues"
    },
    {
      "metadata": {
        "trusted": true
      },
      "cell_type": "code",
      "source": "eig_val, eig_vec = np.linalg.eig( cov_mat )",
      "execution_count": 115,
      "outputs": []
    },
    {
      "metadata": {
        "trusted": true
      },
      "cell_type": "code",
      "source": "",
      "execution_count": null,
      "outputs": []
    },
    {
      "metadata": {
        "trusted": true
      },
      "cell_type": "code",
      "source": "",
      "execution_count": null,
      "outputs": []
    }
  ],
  "metadata": {
    "kernelspec": {
      "name": "python36",
      "display_name": "Python 3.6",
      "language": "python"
    },
    "language_info": {
      "mimetype": "text/x-python",
      "nbconvert_exporter": "python",
      "name": "python",
      "pygments_lexer": "ipython3",
      "version": "3.6.6",
      "file_extension": ".py",
      "codemirror_mode": {
        "version": 3,
        "name": "ipython"
      }
    }
  },
  "nbformat": 4,
  "nbformat_minor": 2
}