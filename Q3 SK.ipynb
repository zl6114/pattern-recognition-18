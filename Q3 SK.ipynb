{
 "cells": [
  {
   "cell_type": "code",
   "execution_count": 2,
   "metadata": {},
   "outputs": [
    {
     "name": "stdout",
     "output_type": "stream",
     "text": [
      "Face Data (2576, 520)\n",
      "Face Label (1, 520)\n"
     ]
    }
   ],
   "source": [
    "import scipy.io as sio\n",
    "import numpy as np\n",
    "import matplotlib.pyplot as plt\n",
    "\n",
    "from sklearn.model_selection import train_test_split\n",
    "\n",
    "mat_content = sio.loadmat( 'face(1).mat' )\n",
    "\n",
    "face_data        = mat_content[ 'X' ]\n",
    "face_data_labels = mat_content[ 'l' ]\n",
    "\n",
    "print( 'Face Data {}'.format( face_data.shape ) )\n",
    "print( 'Face Label {}'.format( face_data_labels.shape ) )"
   ]
  },
  {
   "cell_type": "code",
   "execution_count": 55,
   "metadata": {},
   "outputs": [
    {
     "name": "stdout",
     "output_type": "stream",
     "text": [
      "Train_Set (2576, 416)\n",
      "Test_Set (2576, 104)\n",
      "Train_Label (1, 416)\n",
      "Test_Label (1, 104)\n"
     ]
    }
   ],
   "source": [
    "train_set, test_set, train_label, test_label = train_test_split( face_data.T, face_data_labels.T, test_size = 0.2,\n",
    "                                                                random_state = 10 )\n",
    "\n",
    "train_set   = train_set.T.astype('float64')\n",
    "test_set    = test_set.T.astype('float64')\n",
    "train_label = train_label.T \n",
    "test_label  = test_label.T\n",
    "\n",
    "print( 'Train_Set {}'.format( train_set.shape ) )\n",
    "print( 'Test_Set {}'.format( test_set.shape ) )\n",
    "\n",
    "print( 'Train_Label {}'.format( train_label.shape ) )\n",
    "print( 'Test_Label {}'.format( test_label.shape ) )"
   ]
  },
  {
   "cell_type": "markdown",
   "metadata": {},
   "source": [
    "# PCA"
   ]
  },
  {
   "cell_type": "code",
   "execution_count": 56,
   "metadata": {},
   "outputs": [
    {
     "name": "stdout",
     "output_type": "stream",
     "text": [
      "(2576,)\n"
     ]
    },
    {
     "data": {
      "text/plain": [
       "<matplotlib.image.AxesImage at 0x7f22ae416710>"
      ]
     },
     "execution_count": 56,
     "metadata": {},
     "output_type": "execute_result"
    },
    {
     "data": {
      "image/png": "[encoded data removed]",
      "text/plain": [
       "<Figure size 432x288 with 1 Axes>"
      ]
     },
     "metadata": {
      "needs_background": "light"
     },
     "output_type": "display_data"
    }
   ],
   "source": [
    "#Calculation of the mean face\n",
    "mean_face = np.mean( train_set, axis = 1) \n",
    "print(mean_face.shape)\n",
    "mean_face_img = np.reshape(mean_face,(46,56))\n",
    "plt.imshow( mean_face_img.T, cmap = 'gist_gray')"
   ]
  },
  {
   "cell_type": "code",
   "execution_count": 57,
   "metadata": {},
   "outputs": [
    {
     "name": "stdout",
     "output_type": "stream",
     "text": [
      "Phi_Mat Shape (2576, 416)\n"
     ]
    }
   ],
   "source": [
    "phi_mat = train_set\n",
    "\n",
    "for i in range( phi_mat.shape[ 1 ] ):\n",
    "    phi_mat.T[ i ] = phi_mat.T[ i ] - mean_face\n",
    "    \n",
    "print( 'Phi_Mat Shape {}'.format( phi_mat.shape ) )"
   ]
  },
  {
   "cell_type": "code",
   "execution_count": 58,
   "metadata": {},
   "outputs": [
    {
     "name": "stdout",
     "output_type": "stream",
     "text": [
      "Covariance Matrix Shape (2576, 2576)\n"
     ]
    }
   ],
   "source": [
    "A = phi_mat\n",
    "\n",
    "S = 1 / A.shape[ 1 ] * np.dot( A, A.T )\n",
    "print( 'Covariance Matrix Shape {}'.format( S.shape ) )"
   ]
  },
  {
   "cell_type": "code",
   "execution_count": 59,
   "metadata": {},
   "outputs": [],
   "source": [
    "hd_eig_vals, hd_eig_vecs = np.linalg.eig( S )"
   ]
  },
  {
   "cell_type": "code",
   "execution_count": 60,
   "metadata": {},
   "outputs": [
    {
     "name": "stdout",
     "output_type": "stream",
     "text": [
      "961436.0948658308\n",
      "541043.8664492436\n",
      "450280.8926556715\n",
      "266903.25965380203\n",
      "214638.94630162368\n",
      "144584.82244145861\n",
      "122214.65612966754\n",
      "109994.12194060766\n",
      "94342.33167209689\n",
      "81630.01887945815\n"
     ]
    }
   ],
   "source": [
    "hd_eig_pairs = [ ( np.abs( hd_eig_vals[ i ] ), hd_eig_vecs[ :, i ] ) for i in range( len( hd_eig_vals ) ) ]\n",
    "hd_eig_pairs.sort( key = lambda x: x[ 0 ], reverse = True )\n",
    "\n",
    "for i in range( 10 ):\n",
    "    print( hd_eig_pairs[ i ][ 0 ] )"
   ]
  },
  {
   "cell_type": "code",
   "execution_count": 61,
   "metadata": {},
   "outputs": [
    {
     "name": "stdout",
     "output_type": "stream",
     "text": [
      "M Largest Eigen Pairs: 150\n"
     ]
    }
   ],
   "source": [
    "M = 150\n",
    "\n",
    "M_eig_vecs = []\n",
    "\n",
    "for i in range( M ):\n",
    "    M_eig_vecs.append( hd_eig_pairs[ i ][ 1 ] )\n",
    "    \n",
    "print( 'M Largest Eigen Pairs: {}'.format( len( M_eig_vecs ) ) )"
   ]
  },
  {
   "cell_type": "code",
   "execution_count": 62,
   "metadata": {},
   "outputs": [
    {
     "data": {
      "text/plain": [
       "(150, 2576)"
      ]
     },
     "execution_count": 62,
     "metadata": {},
     "output_type": "execute_result"
    }
   ],
   "source": [
    "M_eig_vecs = np.asarray( M_eig_vecs )\n",
    "\n",
    "M_eig_vecs.shape"
   ]
  },
  {
   "cell_type": "markdown",
   "metadata": {},
   "source": [
    "# Project Data"
   ]
  },
  {
   "cell_type": "code",
   "execution_count": 63,
   "metadata": {},
   "outputs": [
    {
     "data": {
      "text/plain": [
       "(150, 416)"
      ]
     },
     "execution_count": 63,
     "metadata": {},
     "output_type": "execute_result"
    }
   ],
   "source": [
    "train_set_projected = np.dot( M_eig_vecs, train_set )\n",
    "\n",
    "train_set_projected = train_set_projected.real\n",
    "train_set_projected.shape"
   ]
  },
  {
   "cell_type": "markdown",
   "metadata": {},
   "source": [
    "# LDA"
   ]
  },
  {
   "cell_type": "code",
   "execution_count": 64,
   "metadata": {},
   "outputs": [
    {
     "data": {
      "text/plain": [
       "LinearDiscriminantAnalysis(n_components=30, priors=None, shrinkage=None,\n",
       "              solver='svd', store_covariance=False, tol=0.0001)"
      ]
     },
     "execution_count": 64,
     "metadata": {},
     "output_type": "execute_result"
    }
   ],
   "source": [
    "from sklearn.discriminant_analysis import LinearDiscriminantAnalysis\n",
    "\n",
    "X = train_set_projected.T\n",
    "Y = train_label.reshape( train_label.shape[ 1 ] )\n",
    "\n",
    "classifier = LinearDiscriminantAnalysis( n_components = 30 )\n",
    "classifier.fit( X, Y )"
   ]
  },
  {
   "cell_type": "code",
   "execution_count": 65,
   "metadata": {},
   "outputs": [],
   "source": [
    "X_test = np.dot( M_eig_vecs, test_set ).T\n",
    "\n",
    "Y_test_predicted = classifier.predict( X_test )\n",
    "Y_test = test_label"
   ]
  },
  {
   "cell_type": "code",
   "execution_count": 66,
   "metadata": {},
   "outputs": [
    {
     "name": "stdout",
     "output_type": "stream",
     "text": [
      "Accuracy: 84\n"
     ]
    }
   ],
   "source": [
    "Accuracy = np.sum( Y_test_predicted == Y_test )\n",
    "\n",
    "print( 'Accuracy: {}'.format( Accuracy ))"
   ]
  },
  {
   "cell_type": "markdown",
   "metadata": {},
   "source": [
    "# Ensemble\n",
    "\n",
    "## Bagging"
   ]
  },
  {
   "cell_type": "code",
   "execution_count": 74,
   "metadata": {},
   "outputs": [
    {
     "name": "stdout",
     "output_type": "stream",
     "text": [
      "M_pca: 150 , M_lda: 30 \n",
      " \n",
      "\n",
      "### PCA Information ### \n",
      "\n",
      "Phi_Mat Shape (2576, 416)\n",
      "Covariance Matrix Shape (416, 416)\n",
      "M Largest Eigen Pairs: 150, of Size: (2576,)\n",
      "PCA subspace: (150, 2576)\n",
      "\n",
      "### LDA Information ### \n",
      "\n"
     ]
    },
    {
     "name": "stderr",
     "output_type": "stream",
     "text": [
      "/home/aufar/anaconda3/lib/python3.7/site-packages/sklearn/discriminant_analysis.py:442: UserWarning: The priors do not sum to 1. Renormalizing\n",
      "  UserWarning)\n",
      "/home/aufar/anaconda3/lib/python3.7/site-packages/sklearn/discriminant_analysis.py:442: UserWarning: The priors do not sum to 1. Renormalizing\n",
      "  UserWarning)\n",
      "/home/aufar/anaconda3/lib/python3.7/site-packages/sklearn/discriminant_analysis.py:442: UserWarning: The priors do not sum to 1. Renormalizing\n",
      "  UserWarning)\n",
      "/home/aufar/anaconda3/lib/python3.7/site-packages/sklearn/discriminant_analysis.py:442: UserWarning: The priors do not sum to 1. Renormalizing\n",
      "  UserWarning)\n",
      "/home/aufar/anaconda3/lib/python3.7/site-packages/sklearn/discriminant_analysis.py:442: UserWarning: The priors do not sum to 1. Renormalizing\n",
      "  UserWarning)\n",
      "/home/aufar/anaconda3/lib/python3.7/site-packages/sklearn/discriminant_analysis.py:442: UserWarning: The priors do not sum to 1. Renormalizing\n",
      "  UserWarning)\n",
      "/home/aufar/anaconda3/lib/python3.7/site-packages/sklearn/discriminant_analysis.py:442: UserWarning: The priors do not sum to 1. Renormalizing\n",
      "  UserWarning)\n",
      "/home/aufar/anaconda3/lib/python3.7/site-packages/sklearn/discriminant_analysis.py:442: UserWarning: The priors do not sum to 1. Renormalizing\n",
      "  UserWarning)\n",
      "/home/aufar/anaconda3/lib/python3.7/site-packages/sklearn/discriminant_analysis.py:442: UserWarning: The priors do not sum to 1. Renormalizing\n",
      "  UserWarning)\n",
      "/home/aufar/anaconda3/lib/python3.7/site-packages/sklearn/discriminant_analysis.py:442: UserWarning: The priors do not sum to 1. Renormalizing\n",
      "  UserWarning)\n",
      "/home/aufar/anaconda3/lib/python3.7/site-packages/sklearn/discriminant_analysis.py:442: UserWarning: The priors do not sum to 1. Renormalizing\n",
      "  UserWarning)\n",
      "/home/aufar/anaconda3/lib/python3.7/site-packages/sklearn/discriminant_analysis.py:442: UserWarning: The priors do not sum to 1. Renormalizing\n",
      "  UserWarning)\n",
      "/home/aufar/anaconda3/lib/python3.7/site-packages/sklearn/discriminant_analysis.py:442: UserWarning: The priors do not sum to 1. Renormalizing\n",
      "  UserWarning)\n",
      "/home/aufar/anaconda3/lib/python3.7/site-packages/sklearn/discriminant_analysis.py:442: UserWarning: The priors do not sum to 1. Renormalizing\n",
      "  UserWarning)\n",
      "/home/aufar/anaconda3/lib/python3.7/site-packages/sklearn/discriminant_analysis.py:442: UserWarning: The priors do not sum to 1. Renormalizing\n",
      "  UserWarning)\n",
      "/home/aufar/anaconda3/lib/python3.7/site-packages/sklearn/discriminant_analysis.py:442: UserWarning: The priors do not sum to 1. Renormalizing\n",
      "  UserWarning)\n",
      "/home/aufar/anaconda3/lib/python3.7/site-packages/sklearn/discriminant_analysis.py:442: UserWarning: The priors do not sum to 1. Renormalizing\n",
      "  UserWarning)\n",
      "/home/aufar/anaconda3/lib/python3.7/site-packages/sklearn/discriminant_analysis.py:442: UserWarning: The priors do not sum to 1. Renormalizing\n",
      "  UserWarning)\n"
     ]
    },
    {
     "name": "stdout",
     "output_type": "stream",
     "text": [
      "Accuracy: 82%\n"
     ]
    },
    {
     "name": "stderr",
     "output_type": "stream",
     "text": [
      "/home/aufar/anaconda3/lib/python3.7/site-packages/sklearn/discriminant_analysis.py:442: UserWarning: The priors do not sum to 1. Renormalizing\n",
      "  UserWarning)\n"
     ]
    }
   ],
   "source": [
    "from sklearn.ensemble import BaggingClassifier\n",
    "\n",
    "M_pca = 150\n",
    "M_lda = 30\n",
    "\n",
    "print( 'M_pca: {} , M_lda: {} \\n '.format( M_pca, M_lda) )\n",
    "\n",
    "Num_machines = 50\n",
    "\n",
    "## PCA ##\n",
    "# Keeping the subspace constant, Lets perform PCA first\n",
    "print( '\\n### PCA Information ### \\n')\n",
    "bagging_mean_face = np.mean( train_set, axis = 1) \n",
    "\n",
    "bagging_phi_mat = train_set\n",
    "\n",
    "for i in range( phi_mat.shape[ 1 ] ):\n",
    "    bagging_phi_mat.T[ i ] = bagging_phi_mat.T[ i ] - bagging_mean_face\n",
    "    \n",
    "print( 'Phi_Mat Shape {}'.format( bagging_phi_mat.shape ) )\n",
    "\n",
    "bagging_A = bagging_phi_mat\n",
    "\n",
    "bagging_S = 1 / bagging_A.shape[ 1 ] * np.dot( bagging_A.T, bagging_A ) # Perform in low dimension to save computation\n",
    "print( 'Covariance Matrix Shape {}'.format( bagging_S.shape ) )\n",
    "\n",
    "bagging_ld_eig_vals, bagging_ld_eig_vecs = np.linalg.eig( bagging_S )\n",
    "\n",
    "bagging_ld_eig_pairs = [ ( np.abs( bagging_ld_eig_vals[ i ] ), bagging_ld_eig_vecs[ :, i ] ) for i in range( len( bagging_ld_eig_vals ) ) ]\n",
    "bagging_ld_eig_pairs.sort( key = lambda x: x[ 0 ], reverse = True )\n",
    "\n",
    "bagging_M_eig_vecs = []\n",
    "\n",
    "# Convert LD to HD Eigenvectors and select M largest\n",
    "for i in range( M_pca ):\n",
    "    bagging_M_eig_vecs.append( np.dot( bagging_A, bagging_ld_eig_pairs[ i ][ 1 ] ) )\n",
    "    \n",
    "print( 'M Largest Eigen Pairs: {}, of Size: {}'.format( len( bagging_M_eig_vecs ), bagging_M_eig_vecs[ 0 ].shape ) )\n",
    "\n",
    "pca_subspace = np.asarray( bagging_M_eig_vecs )\n",
    "\n",
    "print( 'PCA subspace: {}'.format( pca_subspace.shape ) )\n",
    "\n",
    "## Project Training Data Onto M_pca Subspace ##\n",
    "bagging_train_set   = np.dot( pca_subspace, train_set ).T\n",
    "bagging_test_set    = np.dot( pca_subspace, test_set ).T\n",
    "\n",
    "bagging_train_label = train_label.reshape( train_label.shape[ 1 ] ) \n",
    "bagging_test_label  = test_label.reshape( test_label.shape[ 1 ] )\n",
    "\n",
    "\n",
    "## LDA Classifier ##\n",
    "print( '\\n### LDA Information ### \\n')\n",
    "pca_lda_clf = LinearDiscriminantAnalysis( n_components = M_lda )\n",
    "\n",
    "## Bagging ##\n",
    "model = BaggingClassifier( base_estimator = pca_lda_clf, n_estimators = Num_machines )\n",
    "model.fit( bagging_train_set, bagging_train_label )\n",
    "\n",
    "## Predict ##\n",
    "bagging_test_predicted = model.predict( bagging_test_set )\n",
    "\n",
    "Accuracy = np.sum( bagging_test_predicted == bagging_test_label )\n",
    "print( 'Accuracy: {}%'.format( Accuracy ))"
   ]
  },
  {
   "cell_type": "code",
   "execution_count": 68,
   "metadata": {},
   "outputs": [
    {
     "data": {
      "text/plain": [
       "(416, 100)"
      ]
     },
     "execution_count": 68,
     "metadata": {},
     "output_type": "execute_result"
    }
   ],
   "source": [
    "bagging_train_set.shape"
   ]
  },
  {
   "cell_type": "code",
   "execution_count": null,
   "metadata": {},
   "outputs": [],
   "source": []
  }
 ],
 "metadata": {
  "kernelspec": {
   "display_name": "Python 3",
   "language": "python",
   "name": "python3"
  },
  "language_info": {
   "codemirror_mode": {
    "name": "ipython",
    "version": 3
   },
   "file_extension": ".py",
   "mimetype": "text/x-python",
   "name": "python",
   "nbconvert_exporter": "python",
   "pygments_lexer": "ipython3",
   "version": "3.7.0"
  }
 },
 "nbformat": 4,
 "nbformat_minor": 2
}
