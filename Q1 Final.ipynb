{
 "cells": [
  {
   "cell_type": "code",
   "execution_count": 17,
   "metadata": {},
   "outputs": [
    {
     "name": "stdout",
     "output_type": "stream",
     "text": [
      "Face Data (2576, 520)\n",
      "Face Label (1, 520)\n"
     ]
    }
   ],
   "source": [
    "import scipy.io as sio\n",
    "import numpy as np\n",
    "import matplotlib.pyplot as plt\n",
    "\n",
    "from sklearn.model_selection import train_test_split\n",
    "\n",
    "mat_content = sio.loadmat( 'face(1).mat' )\n",
    "\n",
    "face_data        = mat_content[ 'X' ]\n",
    "face_data_labels = mat_content[ 'l' ]\n",
    "\n",
    "print( 'Face Data {}'.format( face_data.shape ) )\n",
    "print( 'Face Label {}'.format( face_data_labels.shape ) )"
   ]
  },
  {
   "cell_type": "markdown",
   "metadata": {},
   "source": [
    "# Create a train test split"
   ]
  },
  {
   "cell_type": "code",
   "execution_count": 18,
   "metadata": {},
   "outputs": [
    {
     "name": "stdout",
     "output_type": "stream",
     "text": [
      "Train_Set (2576, 416)\n",
      "Test_Set (2576, 104)\n",
      "Train_Label (1, 416)\n",
      "Test_Label (1, 104)\n"
     ]
    }
   ],
   "source": [
    "train_set, test_set, train_label, test_label = train_test_split( face_data.T, face_data_labels.T, test_size = 0.2,\n",
    "                                                                random_state = 42 )\n",
    "\n",
    "train_set   = train_set.T\n",
    "test_set    = test_set.T\n",
    "train_label = train_label.T \n",
    "test_label  = test_label.T\n",
    "\n",
    "print( 'Train_Set {}'.format( train_set.shape ) )\n",
    "print( 'Test_Set {}'.format( test_set.shape ) )\n",
    "\n",
    "print( 'Train_Label {}'.format( train_label.shape ) )\n",
    "print( 'Test_Label {}'.format( test_label.shape ) )"
   ]
  },
  {
   "cell_type": "markdown",
   "metadata": {},
   "source": [
    "# Work Out Mean Face"
   ]
  },
  {
   "cell_type": "code",
   "execution_count": 19,
   "metadata": {},
   "outputs": [
    {
     "name": "stdout",
     "output_type": "stream",
     "text": [
      "Mean Face Shape (2576,)\n"
     ]
    },
    {
     "data": {
      "text/plain": [
       "<matplotlib.image.AxesImage at 0x7f1cdd325c88>"
      ]
     },
     "execution_count": 19,
     "metadata": {},
     "output_type": "execute_result"
    },
    {
     "data": {
      "image/png": "[encoded data removed]",
      "text/plain": [
       "<Figure size 432x288 with 1 Axes>"
      ]
     },
     "metadata": {
      "needs_background": "light"
     },
     "output_type": "display_data"
    }
   ],
   "source": [
    "mean_face = np.mean( train_set, axis = 1 )\n",
    "\n",
    "print( 'Mean Face Shape {}'.format( mean_face.shape ) )\n",
    "mean_face_img = np.reshape(mean_face,(46,56))\n",
    "plt.imshow( mean_face_img.T, cmap = 'gist_gray')"
   ]
  },
  {
   "cell_type": "markdown",
   "metadata": {},
   "source": [
    "# High Dimension"
   ]
  },
  {
   "cell_type": "code",
   "execution_count": 20,
   "metadata": {},
   "outputs": [
    {
     "name": "stdout",
     "output_type": "stream",
     "text": [
      "Phi_Mat Shape (2576, 416)\n"
     ]
    }
   ],
   "source": [
    "phi_mat = train_set.astype( 'float64' )\n",
    "\n",
    "for i in range( phi_mat.shape[ 1 ] ):\n",
    "    phi_mat.T[ i ] = phi_mat.T[ i ] - mean_face # Subtract the mean face from each face\n",
    "    \n",
    "print( 'Phi_Mat Shape {}'.format( phi_mat.shape ) )"
   ]
  },
  {
   "cell_type": "markdown",
   "metadata": {},
   "source": [
    "## Covariance Matrix"
   ]
  },
  {
   "cell_type": "code",
   "execution_count": 21,
   "metadata": {},
   "outputs": [
    {
     "name": "stdout",
     "output_type": "stream",
     "text": [
      "Covariance Matrix Shape (2576, 2576)\n"
     ]
    }
   ],
   "source": [
    "A = phi_mat\n",
    "\n",
    "S = 1 / A.shape[ 1 ] * np.dot( A, A.T )\n",
    "print( 'Covariance Matrix Shape {}'.format( S.shape ) )"
   ]
  },
  {
   "cell_type": "markdown",
   "metadata": {},
   "source": [
    "## Eigen Values and Vectors"
   ]
  },
  {
   "cell_type": "code",
   "execution_count": 22,
   "metadata": {},
   "outputs": [
    {
     "name": "stdout",
     "output_type": "stream",
     "text": [
      "CPU times: user 23.6 s, sys: 304 ms, total: 23.9 s\n",
      "Wall time: 12 s\n"
     ]
    }
   ],
   "source": [
    "%%time\n",
    "\n",
    "hd_eig_vals, hd_eig_vecs = np.linalg.eig( S )"
   ]
  },
  {
   "cell_type": "markdown",
   "metadata": {},
   "source": [
    "### Sort Eigenvalues and Vectors into descending"
   ]
  },
  {
   "cell_type": "code",
   "execution_count": 23,
   "metadata": {},
   "outputs": [
    {
     "name": "stdout",
     "output_type": "stream",
     "text": [
      "0 925024.7089041442\n",
      "1 532530.6315193954\n",
      "2 448877.8466168924\n",
      "3 263240.39129072166\n",
      "4 223404.15014935445\n",
      "5 141717.61246414387\n",
      "6 132692.99285091058\n",
      "7 116053.13020208251\n",
      "8 99239.42387783811\n",
      "9 81012.5869877316\n",
      "10 62333.304539364755\n",
      "11 58557.86112810771\n",
      "12 52211.26106125647\n",
      "13 51095.37583350443\n",
      "14 45635.411439718075\n",
      "15 42171.85007475326\n",
      "16 39577.138419967734\n",
      "17 35338.33108326097\n",
      "18 33726.46469453218\n",
      "19 32727.661642764946\n",
      "20 29464.334880192368\n",
      "21 26369.83962284394\n",
      "22 25681.91126235672\n",
      "23 24494.27292721904\n",
      "24 22799.51237911536\n",
      "25 22251.603337679466\n",
      "26 20953.087892639876\n",
      "27 19987.70433342372\n",
      "28 19099.217001246747\n",
      "29 18584.693459966307\n",
      "30 17953.99255317551\n",
      "31 17156.697825758998\n",
      "32 16956.973025359366\n",
      "33 15823.73423956549\n",
      "34 15510.730907366133\n",
      "35 14306.862624015477\n",
      "36 13919.936407175637\n",
      "37 13810.090203959026\n",
      "38 13162.359075832735\n",
      "39 12740.846633719899\n",
      "40 12396.646610435828\n",
      "41 11679.524416144517\n",
      "42 11364.190234871408\n",
      "43 11112.61349964693\n",
      "44 10859.672753751389\n",
      "45 10524.413889439304\n",
      "46 10067.862584866343\n",
      "47 9851.444762283769\n",
      "48 9625.911605500876\n",
      "49 9442.979308113974\n",
      "50 9006.241141320863\n",
      "51 8827.187995876877\n",
      "52 8620.589153987998\n",
      "53 8337.643158762487\n",
      "54 8245.721401535797\n",
      "55 7877.950902834688\n",
      "56 7682.492743043971\n",
      "57 7557.626960057895\n",
      "58 7305.154127636642\n",
      "59 7203.557283013788\n",
      "60 7018.003454344649\n",
      "61 6779.612655039336\n",
      "62 6710.367879364283\n",
      "63 6663.33039466432\n",
      "64 6463.7989729455785\n",
      "65 6294.900270419767\n",
      "66 6096.156040005198\n",
      "67 5973.011482091597\n",
      "68 5920.241959213034\n",
      "69 5737.188180065439\n",
      "70 5547.228939291205\n",
      "71 5475.397755768087\n",
      "72 5353.816713140586\n",
      "73 5266.885281379192\n",
      "74 5178.271721095722\n",
      "75 5132.81062844688\n",
      "76 5006.062575171226\n",
      "77 4930.401147949501\n",
      "78 4875.225922522155\n",
      "79 4698.931544714651\n",
      "80 4651.086695134741\n",
      "81 4456.128208606146\n",
      "82 4411.579986083397\n",
      "83 4356.611569735097\n",
      "84 4175.886651272569\n",
      "85 4154.67235022216\n",
      "86 4078.501909321567\n",
      "87 4027.8269163413065\n",
      "88 3977.6831276840303\n",
      "89 3865.759097939249\n",
      "90 3811.3978046080742\n",
      "91 3773.3142181321377\n",
      "92 3691.7805068876755\n",
      "93 3673.7970407349276\n",
      "94 3650.951633894111\n",
      "95 3518.055415336859\n",
      "96 3499.013558477056\n",
      "97 3427.9930339308075\n",
      "98 3346.227117796736\n",
      "99 3296.5180553892314\n",
      "100 3243.537684926331\n",
      "101 3227.619974617924\n",
      "102 3186.995777757566\n",
      "103 3138.290596170786\n",
      "104 3117.7922720338306\n",
      "105 3010.4641347994652\n",
      "106 2989.795711778023\n",
      "107 2945.1143143788695\n",
      "108 2922.256456607431\n",
      "109 2892.1087007592596\n",
      "110 2829.81883887999\n",
      "111 2773.4409809434246\n",
      "112 2752.423012945766\n",
      "113 2716.310305881319\n",
      "114 2662.7308169656544\n",
      "115 2647.3147359994036\n",
      "116 2621.1143645139996\n",
      "117 2605.1558273559226\n",
      "118 2531.327879179669\n",
      "119 2502.4110703618458\n",
      "120 2479.3075197696903\n",
      "121 2443.8468045191403\n",
      "122 2420.550594223835\n",
      "123 2409.8031175047495\n",
      "124 2381.3498465725825\n",
      "125 2348.2672821133315\n",
      "126 2334.8112658334894\n",
      "127 2283.5244502570977\n",
      "128 2272.182971423764\n",
      "129 2229.277233193317\n",
      "130 2207.361331823028\n",
      "131 2192.5389472681327\n",
      "132 2158.6982290298524\n",
      "133 2135.5911810962216\n",
      "134 2108.549879632372\n",
      "135 2074.849058594798\n",
      "136 2058.944939328864\n",
      "137 2041.3807254300748\n",
      "138 2009.6077636032032\n",
      "139 1965.180783757362\n",
      "140 1943.5576032780134\n",
      "141 1936.2530439854168\n",
      "142 1930.708539291041\n",
      "143 1907.777444583341\n",
      "144 1872.021888232234\n",
      "145 1844.5527185421527\n",
      "146 1834.698080679083\n",
      "147 1820.496467287814\n",
      "148 1792.7999162809044\n",
      "149 1760.8694886812236\n",
      "150 1749.546007804536\n",
      "151 1739.3096116657932\n",
      "152 1726.15393166144\n",
      "153 1699.457962859605\n",
      "154 1666.024732580322\n",
      "155 1650.7932325098716\n",
      "156 1624.8505330193752\n",
      "157 1606.541668607865\n",
      "158 1591.9218940003082\n",
      "159 1568.5321754795575\n",
      "160 1562.0257816220762\n",
      "161 1548.9530349217237\n",
      "162 1523.248235406138\n",
      "163 1499.272129291728\n",
      "164 1478.7182958308617\n",
      "165 1464.104408354936\n",
      "166 1434.4973726512146\n",
      "167 1428.6290365732275\n",
      "168 1419.6023341508635\n",
      "169 1406.2605720751478\n",
      "170 1387.0670509637698\n",
      "171 1382.607889916461\n",
      "172 1366.4692708118564\n",
      "173 1355.4344082599348\n",
      "174 1346.982389416052\n",
      "175 1336.7602931428296\n",
      "176 1326.8733953094022\n",
      "177 1309.2452384560586\n",
      "178 1301.262447015333\n",
      "179 1284.1817649510376\n",
      "180 1269.6922578121935\n",
      "181 1237.3086217211574\n",
      "182 1233.2917361276313\n",
      "183 1227.0535764380838\n",
      "184 1216.7010183433433\n",
      "185 1213.7840636945455\n",
      "186 1192.329485287582\n",
      "187 1180.2391386598485\n",
      "188 1170.0714571373792\n",
      "189 1156.9267592688575\n",
      "190 1140.1049237585653\n",
      "191 1136.995230473182\n",
      "192 1119.6291257350583\n",
      "193 1112.2899963771722\n",
      "194 1105.705916813159\n",
      "195 1092.2959772409313\n",
      "196 1081.832892317095\n",
      "197 1076.208340157126\n",
      "198 1064.6933136415048\n",
      "199 1056.6421941606984\n",
      "200 1029.588194384097\n",
      "201 1023.5372497575673\n",
      "202 1020.4920927341287\n",
      "203 1016.2625296737261\n",
      "204 1010.4314239954689\n",
      "205 993.4089136216858\n",
      "206 987.4878367011463\n",
      "207 979.1730683168441\n",
      "208 975.2388263889433\n",
      "209 971.5080196469653\n",
      "210 951.5611049262989\n",
      "211 945.9939906050842\n",
      "212 935.4064283416716\n",
      "213 922.7717078195163\n",
      "214 916.3746348710142\n",
      "215 907.7412062272815\n",
      "216 901.6105091857684\n",
      "217 893.3908576747472\n",
      "218 877.1504411110368\n",
      "219 864.8426865332675\n",
      "220 859.7359955497903\n",
      "221 851.7290747873118\n",
      "222 842.5360673744518\n",
      "223 838.0761821950872\n",
      "224 825.5540655173526\n",
      "225 821.9079103485718\n",
      "226 818.6904524043272\n",
      "227 813.0672910179089\n",
      "228 806.101907513879\n",
      "229 800.7436789167133\n",
      "230 799.1966766888332\n",
      "231 785.9883257131878\n",
      "232 777.319378725098\n",
      "233 774.8647713953852\n",
      "234 771.3729670586133\n",
      "235 763.5358896299304\n",
      "236 750.4105412251317\n",
      "237 747.7801157044311\n",
      "238 744.3966935691617\n",
      "239 738.3672028550855\n",
      "240 730.9416785167704\n",
      "241 724.5204034359075\n",
      "242 713.1503221444403\n",
      "243 706.6765714761807\n",
      "244 702.0243899361903\n",
      "245 692.973633988296\n",
      "246 687.2845871568379\n",
      "247 682.0541695401448\n",
      "248 679.8220969855354\n",
      "249 677.3517333633748\n",
      "250 673.2534404995374\n",
      "251 664.373151399022\n",
      "252 658.9790205371169\n",
      "253 657.6440062386972\n",
      "254 649.5025877698215\n",
      "255 645.9498313308225\n",
      "256 639.8731638751516\n",
      "257 635.0231403871843\n",
      "258 629.8728392098214\n",
      "259 619.6105863502088\n",
      "260 614.1406849589398\n",
      "261 610.9588893352325\n",
      "262 607.226899956688\n",
      "263 599.6562942122661\n",
      "264 590.4875826492629\n",
      "265 585.453377571244\n",
      "266 581.9454468630664\n",
      "267 578.7376951617829\n",
      "268 572.782071439996\n",
      "269 571.6089549874525\n",
      "270 559.4634820823918\n",
      "271 556.3521149473361\n",
      "272 548.145643562054\n",
      "273 545.5839804141942\n",
      "274 540.9528148071131\n",
      "275 534.3537271040303\n",
      "276 531.2001635693665\n",
      "277 526.8355000581514\n",
      "278 519.2677985905734\n",
      "279 518.5314043043237\n",
      "280 515.0745992096906\n",
      "281 510.5309534926399\n",
      "282 504.93937712947064\n",
      "283 499.1012551093469\n",
      "284 496.46484257066453\n",
      "285 489.6480929754692\n",
      "286 485.60038895529107\n",
      "287 483.38912238091723\n",
      "288 479.74827009817915\n",
      "289 473.96577327086385\n",
      "290 469.67941321878845\n",
      "291 466.60666884829135\n",
      "292 460.0364638205799\n",
      "293 456.28490739260445\n",
      "294 450.1908579710983\n",
      "295 449.0898091618748\n",
      "296 443.30451906844854\n",
      "297 440.66199325006926\n",
      "298 437.16715903421095\n",
      "299 434.54847889820337\n",
      "300 432.5853175892068\n",
      "301 429.9174957912453\n",
      "302 422.1814130780544\n",
      "303 418.7756812012932\n",
      "304 415.4013171167786\n",
      "305 414.1081305412164\n",
      "306 409.8041640061854\n",
      "307 406.5122441253312\n",
      "308 402.06612093148226\n",
      "309 398.7287310726117\n",
      "310 396.9303798873962\n",
      "311 393.1431219543013\n",
      "312 389.5944260924898\n",
      "313 383.09826262483693\n",
      "314 379.6297380005516\n",
      "315 376.48304904225466\n",
      "316 371.55565410988413\n",
      "317 370.1698743061939\n",
      "318 366.152863755773\n",
      "319 364.1021631684974\n",
      "320 360.5201280155745\n",
      "321 358.53561655573765\n",
      "322 351.87134426384273\n",
      "323 347.5666148198445\n",
      "324 344.9231266009095\n",
      "325 340.532113494987\n",
      "326 340.39562901812985\n",
      "327 339.6257176915584\n",
      "328 331.96982118374984\n",
      "329 329.0004231394949\n",
      "330 326.78798496193605\n",
      "331 323.73748643893106\n",
      "332 320.8902777417773\n",
      "333 316.6386154417768\n",
      "334 314.36074277309086\n",
      "335 312.2006695372519\n",
      "336 309.338018518322\n",
      "337 308.05489447835186\n",
      "338 303.54324636405863\n",
      "339 300.19289563773464\n",
      "340 297.06065405079477\n",
      "341 294.67093291407224\n",
      "342 292.41697649947855\n",
      "343 290.639862074972\n",
      "344 289.95423807750194\n",
      "345 283.47328744817287\n",
      "346 281.3597260575548\n",
      "347 281.0220573338716\n",
      "348 275.11815740653685\n",
      "349 273.8611621204083\n",
      "350 271.54802772658104\n",
      "351 269.96847204010044\n",
      "352 267.15299056861465\n",
      "353 262.560294514403\n",
      "354 261.44840255252836\n",
      "355 258.99299233325854\n",
      "356 256.9938694440585\n",
      "357 250.56881390123164\n",
      "358 249.81702808324823\n",
      "359 247.59689860896052\n",
      "360 246.29091915477704\n",
      "361 243.47483254698346\n",
      "362 241.0723253361163\n",
      "363 238.30842229863245\n",
      "364 237.60640607461607\n",
      "365 235.4505022633665\n",
      "366 233.05987799152095\n",
      "367 230.44523039023602\n",
      "368 230.02358305979095\n",
      "369 226.39308529448064\n",
      "370 222.4250630077641\n",
      "371 220.77115169382154\n",
      "372 214.90303350103173\n",
      "373 214.38446687253648\n",
      "374 209.88016282534298\n",
      "375 207.88451509287842\n",
      "376 203.48978631534627\n",
      "377 201.81716984073935\n",
      "378 199.026263662121\n",
      "379 196.4705355165356\n",
      "380 192.6990383791189\n",
      "381 190.94499781504038\n",
      "382 188.55286127799155\n",
      "383 184.89315340630495\n",
      "384 182.98748261108432\n",
      "385 180.7473232151599\n",
      "386 178.57380378640258\n",
      "387 174.948571129787\n",
      "388 173.85463534484163\n",
      "389 173.32877995714622\n",
      "390 168.8993907987196\n",
      "391 168.19172102756892\n",
      "392 165.83867032134086\n",
      "393 161.9208061313432\n",
      "394 161.2626288284826\n",
      "395 158.52509230669415\n",
      "396 155.94490101805272\n",
      "397 155.2936355832331\n",
      "398 153.22173685006413\n",
      "399 149.1041878817763\n",
      "400 146.18165009829204\n",
      "401 142.6203068396035\n",
      "402 140.69948618194692\n",
      "403 139.46320683949463\n",
      "404 136.76356450469612\n",
      "405 136.5213731292423\n",
      "406 127.05395005220521\n",
      "407 124.38584798650992\n",
      "408 120.98060190295546\n",
      "409 116.6205596627042\n",
      "410 113.5721533776935\n",
      "411 111.20203201077776\n",
      "412 100.10488407584812\n",
      "413 94.63692426659347\n",
      "414 85.80860507596742\n",
      "415 4.6257400904346e-11\n",
      "416 4.6257400904346e-11\n",
      "417 4.3066442857097293e-11\n",
      "418 4.3066442857097293e-11\n",
      "419 4.0100444957036595e-11\n",
      "420 3.9819993204875416e-11\n",
      "421 3.9819993204875416e-11\n",
      "422 3.874067830560195e-11\n",
      "423 3.5827453114799664e-11\n",
      "424 3.4377685009511805e-11\n",
      "425 3.4027123573298614e-11\n",
      "426 3.4027123573298614e-11\n",
      "427 3.325702410334815e-11\n",
      "428 2.970074018935863e-11\n",
      "429 2.970074018935863e-11\n",
      "430 2.968053490761535e-11\n",
      "431 2.968053490761535e-11\n",
      "432 2.7103816162858083e-11\n",
      "433 2.6370105948488082e-11\n",
      "434 2.6370105948488082e-11\n",
      "435 2.6272084597216578e-11\n",
      "436 2.6272084597216578e-11\n",
      "437 2.5496525571202977e-11\n",
      "438 2.5496525571202977e-11\n",
      "439 2.4821767343844454e-11\n",
      "440 2.4764283320037004e-11\n",
      "441 2.3890089214327018e-11\n",
      "442 2.3365997822612293e-11\n",
      "443 2.3365997822612293e-11\n",
      "444 2.3136077713768998e-11\n",
      "445 2.3136077713768998e-11\n",
      "446 2.310243031330059e-11\n",
      "447 2.310243031330059e-11\n",
      "448 2.197419382023714e-11\n",
      "449 2.197419382023714e-11\n",
      "450 2.1741791831741988e-11\n",
      "451 2.1325544337180827e-11\n",
      "452 2.1228895672625963e-11\n",
      "453 2.1228895672625963e-11\n",
      "454 2.1079834945460074e-11\n",
      "455 2.054824963074827e-11\n",
      "456 2.054824963074827e-11\n",
      "457 2.0536995062545124e-11\n",
      "458 2.0536995062545124e-11\n",
      "459 2.025175136158964e-11\n",
      "460 2.025175136158964e-11\n",
      "461 1.9868538377450224e-11\n",
      "462 1.9551691281269445e-11\n",
      "463 1.9551691281269445e-11\n",
      "464 1.8887274386015264e-11\n",
      "465 1.8887274386015264e-11\n",
      "466 1.8815051173602624e-11\n",
      "467 1.87060408121129e-11\n",
      "468 1.87060408121129e-11\n",
      "469 1.8703704406095252e-11\n",
      "470 1.8703704406095252e-11\n",
      "471 1.850850025192101e-11\n",
      "472 1.850850025192101e-11\n",
      "473 1.8270464078475625e-11\n",
      "474 1.8270464078475625e-11\n",
      "475 1.7892047769468656e-11\n",
      "476 1.772955699570454e-11\n",
      "477 1.7479114843885793e-11\n",
      "478 1.7479114843885793e-11\n",
      "479 1.7452271082351156e-11\n",
      "480 1.713149303225771e-11\n",
      "481 1.7096569171268603e-11\n",
      "482 1.692729592909537e-11\n",
      "483 1.692729592909537e-11\n",
      "484 1.6902104831924995e-11\n",
      "485 1.6902104831924995e-11\n",
      "486 1.684273286040308e-11\n",
      "487 1.684273286040308e-11\n",
      "488 1.6697441761195065e-11\n",
      "489 1.6697441761195065e-11\n",
      "490 1.6563166023313007e-11\n",
      "491 1.6563166023313007e-11\n",
      "492 1.6405645528624793e-11\n",
      "493 1.6405645528624793e-11\n",
      "494 1.62788940078819e-11\n",
      "495 1.62788940078819e-11\n",
      "496 1.6225876070760554e-11\n",
      "497 1.6225876070760554e-11\n",
      "498 1.6139166283090288e-11\n",
      "499 1.6139166283090288e-11\n"
     ]
    }
   ],
   "source": [
    "hd_eig_pairs = [ ( np.abs( hd_eig_vals[ i ] ), hd_eig_vecs[ :, i ] ) for i in range( len( hd_eig_vals ) ) ]\n",
    "hd_eig_pairs.sort( key = lambda x: x[ 0 ], reverse = True )\n",
    "\n",
    "for i in range( 500 ):\n",
    "    print( i, hd_eig_pairs[ i ][ 0 ] )"
   ]
  },
  {
   "cell_type": "code",
   "execution_count": 24,
   "metadata": {},
   "outputs": [
    {
     "data": {
      "text/plain": [
       "2576"
      ]
     },
     "execution_count": 24,
     "metadata": {},
     "output_type": "execute_result"
    }
   ],
   "source": [
    "len( hd_eig_pairs )"
   ]
  },
  {
   "cell_type": "code",
   "execution_count": 25,
   "metadata": {},
   "outputs": [
    {
     "name": "stdout",
     "output_type": "stream",
     "text": [
      "M Largest Eigen Pairs: 416\n"
     ]
    }
   ],
   "source": [
    "M = phi_mat.shape[ 1 ] # Take (Number Of Data Faces) M largest eigenvectors\n",
    "M_eig_pairs = []\n",
    "\n",
    "for i in range( M ):\n",
    "    M_eig_pairs.append( hd_eig_pairs[ i ] )\n",
    "    \n",
    "print( 'M Largest Eigen Pairs: {}'.format( len( M_eig_pairs ) ) )"
   ]
  },
  {
   "cell_type": "markdown",
   "metadata": {},
   "source": [
    "## Eigen Faces"
   ]
  },
  {
   "cell_type": "code",
   "execution_count": 26,
   "metadata": {},
   "outputs": [
    {
     "data": {
      "image/png": "[encoded data removed]",
      "text/plain": [
       "<Figure size 1440x720 with 10 Axes>"
      ]
     },
     "metadata": {
      "needs_background": "light"
     },
     "output_type": "display_data"
    }
   ],
   "source": [
    "fig = plt.figure( figsize = ( 20, 10 ) )\n",
    "\n",
    "for i in range( 10 ):\n",
    "    eigen_vector = M_eig_pairs[ i ][ 1 ]\n",
    "    eigen_vector = eigen_vector.real # Turn into real number ( remove imaginary part )\n",
    "    \n",
    "    img = np.reshape( eigen_vector, ( 46, 56 ) )\n",
    "    \n",
    "    a = fig.add_subplot( 2, 5, i+1 )\n",
    "    a.set_title( 'Eigenface {}'.format( i + 1 ) )\n",
    "    plt.imshow( img.T, cmap = 'gist_gray' )\n",
    "    \n",
    "plt.show()"
   ]
  },
  {
   "cell_type": "markdown",
   "metadata": {},
   "source": [
    "___"
   ]
  },
  {
   "cell_type": "markdown",
   "metadata": {},
   "source": [
    "# Low Dimension"
   ]
  },
  {
   "cell_type": "code",
   "execution_count": 27,
   "metadata": {},
   "outputs": [
    {
     "name": "stdout",
     "output_type": "stream",
     "text": [
      "Data - Mean Face, shape: (2576, 416)\n"
     ]
    }
   ],
   "source": [
    "print( 'Data - Mean Face, shape: {}'.format( A.shape ) )"
   ]
  },
  {
   "cell_type": "markdown",
   "metadata": {},
   "source": [
    "## Covariance Matrix"
   ]
  },
  {
   "cell_type": "code",
   "execution_count": 28,
   "metadata": {},
   "outputs": [
    {
     "name": "stdout",
     "output_type": "stream",
     "text": [
      "Low Dimension Covariance Matrix: (416, 416)\n"
     ]
    }
   ],
   "source": [
    "S_LD = 1/A.shape[ 1 ] * np.dot( A.T, A )\n",
    "\n",
    "print( 'Low Dimension Covariance Matrix: {}'.format( S_LD.shape ))"
   ]
  },
  {
   "cell_type": "markdown",
   "metadata": {},
   "source": [
    "## Eigen Values and Vectors ( Low Dimension )"
   ]
  },
  {
   "cell_type": "code",
   "execution_count": 29,
   "metadata": {},
   "outputs": [
    {
     "name": "stdout",
     "output_type": "stream",
     "text": [
      "CPU times: user 282 ms, sys: 7.88 ms, total: 290 ms\n",
      "Wall time: 153 ms\n"
     ]
    }
   ],
   "source": [
    "%%time\n",
    "\n",
    "ld_eig_vals, ld_eig_vecs = np.linalg.eig( S_LD )"
   ]
  },
  {
   "cell_type": "markdown",
   "metadata": {},
   "source": [
    "### Sort Eigenvalues and Vectors into descending"
   ]
  },
  {
   "cell_type": "code",
   "execution_count": 30,
   "metadata": {},
   "outputs": [
    {
     "name": "stdout",
     "output_type": "stream",
     "text": [
      "925024.7089041438\n",
      "532530.6315193927\n",
      "448877.84661689255\n",
      "263240.39129072113\n",
      "223404.1501493553\n",
      "141717.61246414448\n",
      "132692.99285091017\n",
      "116053.13020208282\n",
      "99239.42387783817\n",
      "81012.58698773173\n"
     ]
    }
   ],
   "source": [
    "ld_eig_pairs = [ ( np.abs( ld_eig_vals[ i ] ), ld_eig_vecs[ : , i ] ) for i in range( len( ld_eig_vals ) ) ]\n",
    "ld_eig_pairs.sort( key = lambda x : x[ 0 ], reverse = True )\n",
    "\n",
    "for i in range( 10 ):\n",
    "    print( ld_eig_pairs[ i ][ 0 ] )"
   ]
  },
  {
   "cell_type": "markdown",
   "metadata": {},
   "source": [
    "### Create Eigen Pairs in higher dimension"
   ]
  },
  {
   "cell_type": "code",
   "execution_count": 31,
   "metadata": {},
   "outputs": [],
   "source": [
    "ld_eig_pairs_higher = []\n",
    "\n",
    "for i in ld_eig_pairs:\n",
    "    eigen_vector = np.dot( A, i[ 1 ] )\n",
    "    norm = np.linalg.norm( eigen_vector )\n",
    "    eigen_vector = eigen_vector / norm\n",
    "    \n",
    "    ld_eig_pairs_higher.append( ( i[ 0 ], eigen_vector ) )"
   ]
  },
  {
   "cell_type": "code",
   "execution_count": 32,
   "metadata": {},
   "outputs": [
    {
     "name": "stdout",
     "output_type": "stream",
     "text": [
      "Low Dimension [ 0 ]: [-0.01326336 -0.014329   -0.0149903  ...  0.00311901  0.00294199\n",
      "  0.00324892]\n",
      "High Dimension [ 0 ]: [ 0.01326336+0.j  0.014329  +0.j  0.0149903 +0.j ... -0.00311901+0.j\n",
      " -0.00294199+0.j -0.00324892+0.j]\n"
     ]
    }
   ],
   "source": [
    "print( 'Low Dimension [ 0 ]: {}'.format( ld_eig_pairs_higher[ 0 ][ 1 ] ) )\n",
    "print( 'High Dimension [ 0 ]: {}'.format( hd_eig_pairs[ 0 ][ 1 ] ) )"
   ]
  },
  {
   "cell_type": "markdown",
   "metadata": {},
   "source": [
    "## Eigen Faces"
   ]
  },
  {
   "cell_type": "code",
   "execution_count": 33,
   "metadata": {},
   "outputs": [
    {
     "data": {
      "image/png": "[encoded data removed]",
      "text/plain": [
       "<Figure size 1440x720 with 10 Axes>"
      ]
     },
     "metadata": {
      "needs_background": "light"
     },
     "output_type": "display_data"
    }
   ],
   "source": [
    "fig = plt.figure( figsize = ( 20, 10 ) )\n",
    "\n",
    "for i in range( 10 ):\n",
    "    eigen_vector = ld_eig_pairs_higher[ i ][ 1 ]\n",
    "    eigen_vector = eigen_vector.real\n",
    "    \n",
    "    img = np.reshape( eigen_vector, ( 46, 56 ) )\n",
    "    \n",
    "    fig.add_subplot( 2, 5, i + 1 )\n",
    "    plt.imshow( img.T, cmap = 'gist_gray' )\n",
    "    \n",
    "plt.show()"
   ]
  },
  {
   "cell_type": "markdown",
   "metadata": {},
   "source": [
    "___"
   ]
  },
  {
   "cell_type": "markdown",
   "metadata": {},
   "source": [
    "# KNN"
   ]
  },
  {
   "cell_type": "code",
   "execution_count": 34,
   "metadata": {},
   "outputs": [],
   "source": [
    "from sklearn.neighbors import KNeighborsClassifier\n",
    "from sklearn.metrics import confusion_matrix"
   ]
  },
  {
   "cell_type": "code",
   "execution_count": 80,
   "metadata": {},
   "outputs": [
    {
     "name": "stdout",
     "output_type": "stream",
     "text": [
      "KNN_eigen_vectors shape (415, 2576)\n"
     ]
    }
   ],
   "source": [
    "M_Vectors = 415\n",
    "\n",
    "# Select eigenvector base to use\n",
    "KNN_eigen_vectors = np.asarray( [ pair[ 1 ] for pair in ld_eig_pairs_higher ][ : M_Vectors ] )\n",
    "# KNN_eigen_vectors = np.asarray( [ pair[ 1 ] for pair in hd_eig_pairs ][ : M_Vectors ] )\n",
    "\n",
    "print( 'KNN_eigen_vectors shape {}'.format( KNN_eigen_vectors.shape ) )"
   ]
  },
  {
   "cell_type": "markdown",
   "metadata": {},
   "source": [
    "## Create Training Data Subspace"
   ]
  },
  {
   "cell_type": "code",
   "execution_count": 81,
   "metadata": {},
   "outputs": [
    {
     "name": "stdout",
     "output_type": "stream",
     "text": [
      "Projected Training Data (416, 415)\n"
     ]
    }
   ],
   "source": [
    "#train_set, test_set, train_label, test_label\n",
    "\n",
    "X = np.dot( train_set.T, KNN_eigen_vectors.T ) # Project Training Data onto Subspace\n",
    "\n",
    "print( 'Projected Training Data {}'.format( X.shape ) )"
   ]
  },
  {
   "cell_type": "markdown",
   "metadata": {},
   "source": [
    "## Training Labels"
   ]
  },
  {
   "cell_type": "code",
   "execution_count": 82,
   "metadata": {},
   "outputs": [
    {
     "name": "stdout",
     "output_type": "stream",
     "text": [
      "Training Labels [44 44 21 34 23 51 33 19 50 36 33 20 34 50 46 51  9 44  8 46  2 43 19 48\n",
      "  2 40  6 51 35 45 41  3 27  5 51 28 21 29 13 42  4 12 37 30 16  6 22  3\n",
      "  2 25  7 23 23 10 47 29  3 25 43 38  1 12  5 41  2 49 38  1 28 43  7 12\n",
      " 33 28  3 29 42  3  1 19 48 11  4 16 49 12 12 43 18 21 37 15 20 39 40 38\n",
      " 49 24 47 15 41  7 24 17 19 24 40 32 20  9 11 27 15 10 16 36 42 28  9 11\n",
      " 17 17 20 26  8 47 24 50 12 30 44 46 37 42 25 27 27 32 40 52  4 20 14 39\n",
      " 44 31 42  6 47 25 12  9 47 27 38 16 40  4 33 20 31 15 41 15 32 30 13 39\n",
      " 10 15 24 33 10 48 13 19 21 25 32 51 37 32 42 50 13 49 23 52 22 13 44 30\n",
      " 46 40 41 37 31 30 39 36 12 18 32 43 35 51 38 24 52 33 17 14 20 26 24 12\n",
      " 13 37 23 45 35 13 29 43 11 39 34 14 38  5 49  7 29  9 25 19 40 16  2  4\n",
      "  3 18 15 42 36 23 10  6 25 39 36 40 18  5 46 41 21 29 36 26 43  1 26 47\n",
      " 11 23 45 22 44 18 10 30 22  7  5  4 27 33 21 47  3 41 24 27 38 29 17 40\n",
      " 45 14  7 14 13 50  1 33 49  7 31  2 16  5 38 48 43 22 41 28 46 45 34 24\n",
      " 21 22 30 48 26 52 48 31 36 27 21 17  5 22 41 20 31 26 11  6 39  1 47 51\n",
      "  5 42  9 21  4 44 27 43 50 37 10 34 50  6 35 27 25  2 32  9 39 28 17 33\n",
      " 52 14 31 51 32 25  6 37  6 49 18 45 19 52 47 19 48 17  6 48  5 35 24 26\n",
      "  3 32 46 17 28 45 20 39 30 42 50 35 26 31 15 14 16 36 10 38  9 46 34 22\n",
      " 47 13  3  8 11 28 44 11]\n"
     ]
    }
   ],
   "source": [
    "Y = train_label.reshape( train_label.shape[ 1 ], ) # Create 1-D array of Training Labels\n",
    "print( 'Training Labels {}'.format( Y ) )"
   ]
  },
  {
   "cell_type": "markdown",
   "metadata": {},
   "source": [
    "## KNN sklearn"
   ]
  },
  {
   "cell_type": "code",
   "execution_count": 83,
   "metadata": {},
   "outputs": [
    {
     "data": {
      "text/plain": [
       "KNeighborsClassifier(algorithm='auto', leaf_size=30, metric='minkowski',\n",
       "           metric_params=None, n_jobs=1, n_neighbors=1, p=2,\n",
       "           weights='uniform')"
      ]
     },
     "execution_count": 83,
     "metadata": {},
     "output_type": "execute_result"
    }
   ],
   "source": [
    "KNN = KNeighborsClassifier(n_neighbors = 1)\n",
    "\n",
    "KNN.fit( X, Y )"
   ]
  },
  {
   "cell_type": "markdown",
   "metadata": {},
   "source": [
    "## Project Test Data Onto Subspace"
   ]
  },
  {
   "cell_type": "code",
   "execution_count": 84,
   "metadata": {},
   "outputs": [],
   "source": [
    "X_test = np.dot( test_set.T, KNN_eigen_vectors.T)\n",
    "\n",
    "Y_test = test_label.reshape( test_label.shape[ 1 ], ) # Create 1-D array of Training Labels\n"
   ]
  },
  {
   "cell_type": "markdown",
   "metadata": {},
   "source": [
    "## Predict"
   ]
  },
  {
   "cell_type": "code",
   "execution_count": 129,
   "metadata": {},
   "outputs": [
    {
     "name": "stdout",
     "output_type": "stream",
     "text": [
      "Accuracy: 58.65384615384615 %\n",
      "CPU times: user 12.9 ms, sys: 22 µs, total: 12.9 ms\n",
      "Wall time: 17.3 ms\n"
     ]
    }
   ],
   "source": [
    "%%time\n",
    "\n",
    "Y_test_predicted = KNN.predict( X_test )\n",
    "\n",
    "Accuracy = ( np.sum( Y_test_predicted == Y_test ) / Y_test.shape[ 0 ] * 100 )\n",
    "\n",
    "print( 'Accuracy: {} %'.format( Accuracy ) )"
   ]
  },
  {
   "cell_type": "code",
   "execution_count": 130,
   "metadata": {},
   "outputs": [
    {
     "data": {
      "text/plain": [
       "60.57692307692307"
      ]
     },
     "execution_count": 130,
     "metadata": {},
     "output_type": "execute_result"
    },
    {
     "data": {
      "image/png": "[encoded data removed]",
      "text/plain": [
       "<Figure size 1440x720 with 10 Axes>"
      ]
     },
     "metadata": {
      "needs_background": "light"
     },
     "output_type": "display_data"
    }
   ],
   "source": [
    "from sklearn.metrics import confusion_matrix\n",
    "\n",
    "M_Vectors = 400\n",
    "\n",
    "bases = [ 5, 10, 15, 30, 50, 100, 150, 200, 300, 400 ]\n",
    "accuracy = []\n",
    "\n",
    "fig = plt.figure( figsize = ( 20, 10 ) )\n",
    "count = 0\n",
    "\n",
    "for base in bases:\n",
    "    # Select eigenvector base to use\n",
    "    KNN_eigen_vectors = np.asarray( [ pair[ 1 ] for pair in ld_eig_pairs_higher ][ : base ] )\n",
    "    X = np.dot( train_set.T, KNN_eigen_vectors.T ) # Project Training Data onto Subspace\n",
    "    \n",
    "    X_test = np.dot( test_set.T, KNN_eigen_vectors.T)\n",
    "        \n",
    "    KNN.fit( X, Y )\n",
    "    \n",
    "    Y_test_predicted = KNN.predict( X_test )    \n",
    "    \n",
    "    Accuracy = ( np.sum( Y_test_predicted == Y_test ) / Y_test.shape[ 0 ] * 100 )\n",
    "    \n",
    "    accuracy.append(Accuracy)\n",
    "    \n",
    "    cm = confusion_matrix( Y_test, Y_test_predicted )    \n",
    "    \n",
    "    a = fig.add_subplot( 2, 5, count + 1 )\n",
    "    count += 1\n",
    "    a.set_title( 'Base: {}'.format(base))\n",
    "    \n",
    "    plt.imshow( cm )\n",
    "    \n",
    "    \n",
    "accuracy[ 9 ]"
   ]
  },
  {
   "cell_type": "code",
   "execution_count": 69,
   "metadata": {},
   "outputs": [
    {
     "data": {
      "image/png": "[encoded data removed]",
      "text/plain": [
       "<Figure size 720x360 with 1 Axes>"
      ]
     },
     "metadata": {
      "needs_background": "light"
     },
     "output_type": "display_data"
    }
   ],
   "source": [
    "accuracy_fig = plt.figure( figsize = ( 10, 5 ) )\n",
    "\n",
    "plt.plot( bases, accuracy, 'r-.')\n",
    "plt.title('Nearest Neighbour Classification')\n",
    "plt.xlabel('Number of Eigenvectors in Base')\n",
    "plt.ylabel('Accuracy (%)')\n",
    "plt.show()"
   ]
  },
  {
   "cell_type": "markdown",
   "metadata": {},
   "source": [
    "# High Vs Low\n",
    "\n",
    "* WHen we project the new test set onto the eigen subspace, the direction of the eigenvectors that make up the subspace do not matter. We still obtain the same accuracy"
   ]
  },
  {
   "cell_type": "markdown",
   "metadata": {},
   "source": [
    "___"
   ]
  },
  {
   "cell_type": "markdown",
   "metadata": {},
   "source": [
    "# Alternative Method"
   ]
  },
  {
   "cell_type": "code",
   "execution_count": 106,
   "metadata": {},
   "outputs": [],
   "source": [
    "from sklearn.preprocessing import normalize\n",
    "\n",
    "number_test_set = 2\n",
    "\n",
    "M = 2\n",
    "\n",
    "all_test_set         = []\n",
    "all_mean_faces       = []\n",
    "all_higher_subspaces = []\n",
    "\n",
    "face_data_normalized = normalize( face_data, axis = 0 )\n",
    "\n",
    "for class_index in range( 1, 53 ):\n",
    "    \n",
    "    class_train_set = face_data_normalized.T[ ( class_index - 1 ) * 10 : ( class_index * 10 ) - number_test_set ] # Select first 10 - number_test_set elements\n",
    "    class_test_set  = face_data_normalized.T[ ( class_index * 10 ) - number_test_set : ( class_index * 10 ) ] # Select last number_test_set elements\n",
    "    \n",
    "    for row in class_test_set:\n",
    "        all_test_set.append( row )\n",
    "        \n",
    "        \n",
    "    # Calculate the class mean face\n",
    "    class_mean_face = np.mean( class_train_set, axis = 0 )\n",
    "    \n",
    "    all_mean_faces.append( class_mean_face )\n",
    "    \n",
    "    class_a = class_train_set.astype( 'float64' )\n",
    "    \n",
    "    # Subtract mean face from training data\n",
    "    for i in range( class_a.shape[ 0 ] ):\n",
    "        class_a[ i ] = class_a[ i ] - class_mean_face\n",
    "        \n",
    "    # Calculate covariance matrix\n",
    "    class_s_ld =  np.dot( class_a, class_a.T ) / class_a.shape[ 0 ]\n",
    "    \n",
    "    # Calculate eigenvalues and vectors\n",
    "    class_ld_eig_vals, class_ld_eig_vecs = np.linalg.eig( class_s_ld )\n",
    "    \n",
    "    # Lets use all the eigenvectors since there are only 8 per class\n",
    "    # Convert to higher dimension\n",
    "    class_ld_eig_vecs_higher = []\n",
    "\n",
    "    \"\"\"\n",
    "    for vec in class_ld_eig_vecs:\n",
    "        unnormalized_vector = np.dot( class_a.T, vec )\n",
    "        norm = np.linalg.norm( unnormalized_vector )        \n",
    "    \"\"\" \n",
    "    \n",
    "    for i in range( M ):\n",
    "        unnormalized_vector = np.dot( class_a.T, class_ld_eig_vecs[ i ])\n",
    "        norm = np.linalg.norm( unnormalized_vector )        \n",
    "\n",
    "        class_ld_eig_vecs_higher.append( unnormalized_vector )\n",
    "        \n",
    "    class_ld_eig_vecs_higher = np.asarray( class_ld_eig_vecs_higher ) \n",
    "    \n",
    "    all_higher_subspaces.append( class_ld_eig_vecs_higher )\n"
   ]
  },
  {
   "cell_type": "code",
   "execution_count": 107,
   "metadata": {},
   "outputs": [
    {
     "data": {
      "text/plain": [
       "(8, 2576)"
      ]
     },
     "execution_count": 107,
     "metadata": {},
     "output_type": "execute_result"
    }
   ],
   "source": [
    "class_a.shape"
   ]
  },
  {
   "cell_type": "markdown",
   "metadata": {},
   "source": [
    "## Calculated Test, Subspaces and Mean Faces"
   ]
  },
  {
   "cell_type": "code",
   "execution_count": 108,
   "metadata": {},
   "outputs": [
    {
     "name": "stdout",
     "output_type": "stream",
     "text": [
      "All Test Set: (104, 2576)\n",
      "All Sub Spaces: (52, 2, 2576)\n",
      "All Mean Faces: (52, 2576)\n"
     ]
    }
   ],
   "source": [
    "all_test_set         = np.asarray( all_test_set )\n",
    "all_higher_subspaces = np.asarray( all_higher_subspaces )\n",
    "all_mean_faces       = np.asarray( all_mean_faces )\n",
    "\n",
    "print( 'All Test Set: {}'.format( all_test_set.shape ) )\n",
    "print( 'All Sub Spaces: {}'.format( all_higher_subspaces.shape ) )\n",
    "print( 'All Mean Faces: {}'.format( all_mean_faces.shape ) )"
   ]
  },
  {
   "cell_type": "markdown",
   "metadata": {},
   "source": [
    "## Reconstruct a test face and calculate error"
   ]
  },
  {
   "cell_type": "code",
   "execution_count": 109,
   "metadata": {},
   "outputs": [],
   "source": [
    "from scipy.spatial.distance import euclidean\n",
    "\n",
    "def reconstruction_error( test_face, class_mean_face, class_subspace ):\n",
    "    face = test_face - class_mean_face\n",
    "    projected = np.dot( class_subspace, face )\n",
    "    \n",
    "    reconstruction = np.add( class_mean_face.T, np.dot( projected.T, class_subspace ) )\n",
    "    \n",
    "    error = euclidean( test_face, reconstruction )\n",
    "    \n",
    "    return error, reconstruction"
   ]
  },
  {
   "cell_type": "markdown",
   "metadata": {},
   "source": [
    "### Test on one image on one subspace"
   ]
  },
  {
   "cell_type": "code",
   "execution_count": 110,
   "metadata": {},
   "outputs": [
    {
     "name": "stdout",
     "output_type": "stream",
     "text": [
      "0.5784770270784687\n"
     ]
    },
    {
     "data": {
      "image/png": "[encoded data removed]",
      "text/plain": [
       "<Figure size 432x288 with 4 Axes>"
      ]
     },
     "metadata": {
      "needs_background": "light"
     },
     "output_type": "display_data"
    }
   ],
   "source": [
    "# test_face = face_data.T[ 0 ].reshape( 2576, 1 )\n",
    "test_face = all_test_set[ 0 ].reshape( 2576, 1 )\n",
    "test_mean_face = all_mean_faces[ 3 ].reshape( 2576, 1 )\n",
    "test_subspace = all_higher_subspaces[ 3 ]\n",
    "\n",
    "error, reconstruction = reconstruction_error( test_face, test_mean_face, test_subspace )\n",
    "\n",
    "print( error )\n",
    "\n",
    "test_img = np.reshape( reconstruction,(46,56))\n",
    "\n",
    "my_fig = plt.figure()\n",
    "\n",
    "ax1 = my_fig.add_subplot( 1, 4, 4)\n",
    "ax1.set_title( 'Reconstructed' )\n",
    "plt.imshow( test_img.T, cmap = 'gist_gray')\n",
    "\n",
    "ax2 = my_fig.add_subplot( 1, 4, 1 )\n",
    "ax2.set_title( 'Test Image' )\n",
    "plt.imshow( test_face.reshape( 46, 56 ).T, cmap = 'gist_gray' )\n",
    "\n",
    "ax3 = my_fig.add_subplot( 1, 4, 2 )\n",
    "ax3.set_title( 'Class Mean' )\n",
    "plt.imshow( test_mean_face.reshape( 46, 56 ).T, cmap = 'gist_gray' )\n",
    "\n",
    "ax4 = my_fig.add_subplot( 1, 4, 3 )\n",
    "ax4.set_title( 'Subtracted' )\n",
    "plt.imshow( ( test_face - test_mean_face ).reshape( 46, 56 ).T, cmap = 'gist_gray' )\n",
    "\n",
    "plt.show()"
   ]
  },
  {
   "cell_type": "markdown",
   "metadata": {},
   "source": [
    "## All test images across all subspaces"
   ]
  },
  {
   "cell_type": "code",
   "execution_count": 111,
   "metadata": {},
   "outputs": [],
   "source": [
    "import sys\n",
    "\n",
    "all_class_guesses = []\n",
    "all_class_errors  = []\n",
    "\n",
    "for image in all_test_set:\n",
    "# for image in all_test_set[ : 1 ]:\n",
    "    \n",
    "    test_image = image.reshape( 2576, 1 )\n",
    "    \n",
    "    min_error = sys.float_info.max # Set float to max possible, error will only get smaller ( up to 0 )\n",
    "    class_guess = -1\n",
    "    \n",
    "    class_errors = []\n",
    "    \n",
    "    for index in range( len( all_higher_subspaces ) ):\n",
    "        \n",
    "        test_subspace  = all_higher_subspaces[ index ]\n",
    "        test_mean_face = all_mean_faces[ index ].reshape( 2576, 1 )\n",
    "        \n",
    "        error, _ = reconstruction_error( test_image, test_mean_face, test_subspace )\n",
    "        \n",
    "        class_errors.append( error )\n",
    "        \n",
    "        if( error < min_error ):\n",
    "            min_error = error\n",
    "            class_guess = index + 1\n",
    "            \n",
    "    all_class_guesses.append( class_guess )\n",
    "    \n",
    "    all_class_errors.append( class_errors )"
   ]
  },
  {
   "cell_type": "code",
   "execution_count": 112,
   "metadata": {},
   "outputs": [
    {
     "data": {
      "text/plain": [
       "array([ 7,  7,  2,  2,  3,  3,  4,  4,  5,  2,  6,  6,  7,  7,  8,  8,  9,\n",
       "        9, 10,  7, 30, 47, 12, 10, 12, 13, 22,  2,  2, 15, 19, 21,  7, 17,\n",
       "       20, 20, 19, 19, 20, 20, 21, 21, 22, 39, 23, 23, 24, 24, 25, 25, 26,\n",
       "       26, 27, 27, 28, 28, 29, 26, 25, 47, 31, 31, 40, 32, 33, 33, 34, 16,\n",
       "       35, 35, 16, 28, 37, 37, 38, 38, 39, 39, 40, 40, 41, 26,  7, 42, 42,\n",
       "       27, 30, 44, 32, 32, 46, 46, 47, 47, 48, 48, 49, 47, 26, 50, 51, 51,\n",
       "       41, 51])"
      ]
     },
     "execution_count": 112,
     "metadata": {},
     "output_type": "execute_result"
    }
   ],
   "source": [
    "all_class_guesses = np.asarray( all_class_guesses )\n",
    "\n",
    "all_class_guesses"
   ]
  },
  {
   "cell_type": "code",
   "execution_count": 113,
   "metadata": {},
   "outputs": [
    {
     "name": "stdout",
     "output_type": "stream",
     "text": [
      "[ 1  1  2  2  3  3  4  4  5  5  6  6  7  7  8  8  9  9 10 10 11 11 12 12\n",
      " 13 13 14 14 15 15 16 16 17 17 18 18 19 19 20 20 21 21 22 22 23 23 24 24\n",
      " 25 25 26 26 27 27 28 28 29 29 30 30 31 31 32 32 33 33 34 34 35 35 36 36\n",
      " 37 37 38 38 39 39 40 40 41 41 42 42 43 43 44 44 45 45 46 46 47 47 48 48\n",
      " 49 49 50 50 51 51 52 52]\n"
     ]
    }
   ],
   "source": [
    "correct_classes = np.asarray( [ f( i ) for i in range( 52 )  for f in ( lambda x: x+1, lambda x: x+1 ) ]  )\n",
    "\n",
    "print( correct_classes )"
   ]
  },
  {
   "cell_type": "code",
   "execution_count": 114,
   "metadata": {},
   "outputs": [
    {
     "name": "stdout",
     "output_type": "stream",
     "text": [
      "Accuracy: 66.34615384615384 %\n"
     ]
    }
   ],
   "source": [
    "correct_predicted_classes = np.sum( correct_classes == all_class_guesses )\n",
    "\n",
    "print( \"Accuracy: {} %\".format( correct_predicted_classes / correct_classes.shape[ 0 ] * 100 ) )"
   ]
  },
  {
   "cell_type": "code",
   "execution_count": null,
   "metadata": {},
   "outputs": [],
   "source": []
  },
  {
   "cell_type": "code",
   "execution_count": 127,
   "metadata": {},
   "outputs": [
    {
     "name": "stdout",
     "output_type": "stream",
     "text": [
      "Base: 8, Accuracy: 74.03846153846155 %\n",
      "CPU times: user 1.06 s, sys: 36.1 ms, total: 1.09 s\n",
      "Wall time: 548 ms\n"
     ]
    },
    {
     "data": {
      "image/png": "[encoded data removed]",
      "text/plain": [
       "<Figure size 1440x720 with 1 Axes>"
      ]
     },
     "metadata": {
      "needs_background": "light"
     },
     "output_type": "display_data"
    }
   ],
   "source": [
    "%%time\n",
    "\n",
    "from sklearn.preprocessing import normalize\n",
    "import sys\n",
    "\n",
    "\n",
    "number_test_set = 2\n",
    "\n",
    "M = 2\n",
    "\n",
    "face_data_normalized = normalize( face_data, axis = 0 )\n",
    "\n",
    "# base = [ i for i in range( 1, 9) ]\n",
    "base = [ 8 ]\n",
    "\n",
    "accuracies = []\n",
    "\n",
    "fig = plt.figure( figsize = ( 20, 10 ) )\n",
    "count = 0\n",
    "\n",
    "\n",
    "for M in base:\n",
    "    all_test_set         = []\n",
    "    all_mean_faces       = []\n",
    "    all_higher_subspaces = []\n",
    "\n",
    "    for class_index in range( 1, 53 ):\n",
    "\n",
    "        class_train_set = face_data_normalized.T[ ( class_index - 1 ) * 10 : ( class_index * 10 ) - number_test_set ] # Select first 10 - number_test_set elements\n",
    "        class_test_set  = face_data_normalized.T[ ( class_index * 10 ) - number_test_set : ( class_index * 10 ) ] # Select last number_test_set elements\n",
    "\n",
    "        for row in class_test_set:\n",
    "            all_test_set.append( row )\n",
    "\n",
    "\n",
    "        # Calculate the class mean face\n",
    "        class_mean_face = np.mean( class_train_set, axis = 0 )\n",
    "\n",
    "        all_mean_faces.append( class_mean_face )\n",
    "\n",
    "        class_a = class_train_set.astype( 'float64' )\n",
    "\n",
    "        # Subtract mean face from training data\n",
    "        for i in range( class_a.shape[ 0 ] ):\n",
    "            class_a[ i ] = class_a[ i ] - class_mean_face\n",
    "\n",
    "        # Calculate covariance matrix\n",
    "        class_s_ld =  np.dot( class_a, class_a.T ) / class_a.shape[ 0 ]\n",
    "\n",
    "        # Calculate eigenvalues and vectors\n",
    "        class_ld_eig_vals, class_ld_eig_vecs = np.linalg.eig( class_s_ld )\n",
    "\n",
    "        # Lets use all the eigenvectors since there are only 8 per class\n",
    "        # Convert to higher dimension\n",
    "        class_ld_eig_vecs_higher = []\n",
    "\n",
    "        \"\"\"\n",
    "        for vec in class_ld_eig_vecs:\n",
    "            unnormalized_vector = np.dot( class_a.T, vec )\n",
    "            norm = np.linalg.norm( unnormalized_vector )        \n",
    "        \"\"\" \n",
    "\n",
    "        for i in range( M ):\n",
    "            unnormalized_vector = np.dot( class_a.T, class_ld_eig_vecs[ i ])\n",
    "            norm = np.linalg.norm( unnormalized_vector )        \n",
    "\n",
    "            class_ld_eig_vecs_higher.append( unnormalized_vector )\n",
    "\n",
    "        class_ld_eig_vecs_higher = np.asarray( class_ld_eig_vecs_higher ) \n",
    "\n",
    "        all_higher_subspaces.append( class_ld_eig_vecs_higher )\n",
    "\n",
    "\n",
    "\n",
    "\n",
    "    all_class_guesses = []\n",
    "    all_class_errors  = []\n",
    "\n",
    "    for image in all_test_set:\n",
    "    # for image in all_test_set[ : 1 ]:\n",
    "\n",
    "        test_image = image.reshape( 2576, 1 )\n",
    "\n",
    "        min_error = sys.float_info.max # Set float to max possible, error will only get smaller ( up to 0 )\n",
    "        class_guess = -1\n",
    "\n",
    "        class_errors = []\n",
    "\n",
    "        for index in range( len( all_higher_subspaces ) ):\n",
    "\n",
    "            test_subspace  = all_higher_subspaces[ index ]\n",
    "            test_mean_face = all_mean_faces[ index ].reshape( 2576, 1 )\n",
    "\n",
    "            error, _ = reconstruction_error( test_image, test_mean_face, test_subspace )\n",
    "\n",
    "            class_errors.append( error )\n",
    "\n",
    "            if( error < min_error ):\n",
    "                min_error = error\n",
    "                class_guess = index + 1\n",
    "\n",
    "        all_class_guesses.append( class_guess )\n",
    "\n",
    "        all_class_errors.append( class_errors )\n",
    "\n",
    "    all_class_guesses = np.asarray( all_class_guesses )\n",
    "\n",
    "    correct_classes = np.asarray( [ f( i ) for i in range( 52 )  for f in ( lambda x: x+1, lambda x: x+1 ) ]  )\n",
    "\n",
    "    correct_predicted_classes = np.sum( correct_classes == all_class_guesses )\n",
    "    \n",
    "    accuracies.append( correct_predicted_classes / correct_classes.shape[ 0 ] * 100 )\n",
    "    \n",
    "    \n",
    "    cm = confusion_matrix( correct_classes, all_class_guesses )    \n",
    "    \n",
    "    a = fig.add_subplot( 2, 4, count + 1 )\n",
    "    count += 1\n",
    "    a.set_title( 'Base: {}'.format(M))\n",
    "    \n",
    "    plt.imshow( cm )\n",
    "\n",
    "    print( \"Base: {}, Accuracy: {} %\".format( M, correct_predicted_classes / correct_classes.shape[ 0 ] * 100 ) )"
   ]
  },
  {
   "cell_type": "code",
   "execution_count": 124,
   "metadata": {},
   "outputs": [
    {
     "data": {
      "image/png": "[encoded data removed]",
      "text/plain": [
       "<Figure size 720x360 with 1 Axes>"
      ]
     },
     "metadata": {
      "needs_background": "light"
     },
     "output_type": "display_data"
    }
   ],
   "source": [
    "accuracy_fig = plt.figure( figsize = ( 10, 5 ) )\n",
    "\n",
    "plt.plot( base, accuracies, 'r-.')\n",
    "plt.title('Alternate Method Classification')\n",
    "plt.xlabel('Number of Eigenvectors in Base')\n",
    "plt.ylabel('Accuracy (%)')\n",
    "plt.show()"
   ]
  },
  {
   "cell_type": "code",
   "execution_count": 122,
   "metadata": {},
   "outputs": [
    {
     "data": {
      "text/plain": [
       "8"
      ]
     },
     "execution_count": 122,
     "metadata": {},
     "output_type": "execute_result"
    }
   ],
   "source": [
    "len(base)"
   ]
  },
  {
   "cell_type": "code",
   "execution_count": null,
   "metadata": {},
   "outputs": [],
   "source": []
  }
 ],
 "metadata": {
  "kernelspec": {
   "display_name": "Python 3",
   "language": "python",
   "name": "python3"
  },
  "language_info": {
   "codemirror_mode": {
    "name": "ipython",
    "version": 3
   },
   "file_extension": ".py",
   "mimetype": "text/x-python",
   "name": "python",
   "nbconvert_exporter": "python",
   "pygments_lexer": "ipython3",
   "version": "3.7.0"
  }
 },
 "nbformat": 4,
 "nbformat_minor": 2
}
