{
 "cells": [
  {
   "cell_type": "markdown",
   "metadata": {},
   "source": [
    "# Coursework 2\n",
    "\n",
    "## Load Data\n",
    "* File is 500mb, load once"
   ]
  },
  {
   "cell_type": "code",
   "execution_count": 13,
   "metadata": {},
   "outputs": [],
   "source": [
    "import numpy as np\n",
    "import matplotlib.pyplot as plt\n",
    "\n",
    "import json\n",
    "from scipy.io import loadmat"
   ]
  },
  {
   "cell_type": "markdown",
   "metadata": {},
   "source": [
    "### Load Features"
   ]
  },
  {
   "cell_type": "code",
   "execution_count": 11,
   "metadata": {},
   "outputs": [
    {
     "name": "stdout",
     "output_type": "stream",
     "text": [
      "Data shape: (14096, 2048)\n"
     ]
    }
   ],
   "source": [
    "with open( \"PR_data/feature_data.json\", \"r\" ) as file:\n",
    "    features = json.load( file )\n",
    "    \n",
    "data = np.asarray( features )\n",
    "\n",
    "print( 'Data shape: {}'.format( data.shape ) )"
   ]
  },
  {
   "cell_type": "markdown",
   "metadata": {},
   "source": [
    "### Load Image Annotations\n",
    "\n",
    "From the file **cuhk03_new_protocol_config_labeled.mat**\n",
    "\n",
    "There are 6 main components of this file:\n",
    "\n",
    "1. camId specidies whether image was taken from camera 1 or camera 2. While evaluating your algorithms, you should not consider images of your current query identity taken from the same camera. For example, when you create ranklist for the first query image (index 22, label 3, camera 1, name \"1_003_1_02.png\"), you should not include images with indexes 21, 23, 24 in this ranking list\n",
    "2. filelist\n",
    "3. gallery_idx, which specifies indexes of the part of the dataset from which you compose your ranklists during testing phase\n",
    "4. labels contains ground truths for each image\n",
    "5. query_idx contains indexes of query images\n",
    "6. train_idx contains indexes of images that can be used for training"
   ]
  },
  {
   "cell_type": "code",
   "execution_count": 29,
   "metadata": {},
   "outputs": [],
   "source": [
    "# Load matfile\n",
    "mat = loadmat( 'PR_data/cuhk03_new_protocol_config_labeled.mat' )"
   ]
  },
  {
   "cell_type": "code",
   "execution_count": 60,
   "metadata": {},
   "outputs": [
    {
     "data": {
      "text/plain": [
       "dict_keys(['__header__', '__version__', '__globals__', 'camId', 'filelist', 'labels', 'query_idx', 'gallery_idx', 'train_idx'])"
      ]
     },
     "execution_count": 60,
     "metadata": {},
     "output_type": "execute_result"
    }
   ],
   "source": [
    "mat.keys()"
   ]
  },
  {
   "cell_type": "code",
   "execution_count": 95,
   "metadata": {},
   "outputs": [
    {
     "name": "stdout",
     "output_type": "stream",
     "text": [
      "Loading Training indexes : (7368,)\n",
      "Loading Query indexes : (1400,)\n",
      "Loading Gallery indexes : (5328,)\n"
     ]
    }
   ],
   "source": [
    "# Load labels\n",
    "labels = mat[ 'labels' ].flatten()\n",
    "\n",
    "# Load camId\n",
    "camIds = mat[ 'camId' ].flatten()\n",
    "\n",
    "# Load indexes\n",
    "train_idxs   = mat[ 'train_idx' ].flatten()\n",
    "query_idxs    = mat[ 'query_idx' ].flatten()\n",
    "gallery_idxs = mat[ 'gallery_idx' ].flatten()\n",
    "\n",
    "# Load training indexes\n",
    "print( \"Loading Training indexes : {}\".format( train_idxs.shape ) )\n",
    "print( \"Loading Query indexes : {}\".format( query_idxs.shape ) )\n",
    "print( \"Loading Gallery indexes : {}\".format( gallery_idxs.shape ) )"
   ]
  },
  {
   "cell_type": "code",
   "execution_count": 96,
   "metadata": {},
   "outputs": [
    {
     "name": "stdout",
     "output_type": "stream",
     "text": [
      "Train Set : (7368, 2048)\n",
      "Train Label : (7368,)\n",
      "\n",
      "Query Set : (1400, 2048)\n",
      "Query Label : (1400,)\n",
      "Query CamId : (1400,)\n",
      "\n",
      "Gallery Set : (5328, 2048)\n",
      "Gallery Label : (5328,)\n",
      "Gallery CamId : (5328,)\n"
     ]
    }
   ],
   "source": [
    "# Create Train Set\n",
    "train_set   = []\n",
    "train_label = []\n",
    "\n",
    "for i in train_idxs:\n",
    "    train_set.append( data[ i - 1 ] )\n",
    "    train_label.append( labels[ i - 1 ] )\n",
    "    \n",
    "train_set   = np.asarray( train_set )\n",
    "train_label = np.asarray( train_label )\n",
    "\n",
    "print( 'Train Set : {}'.format( train_set.shape ) )\n",
    "print( 'Train Label : {}'.format( train_label.shape ) )\n",
    "\n",
    "\n",
    "# Create Query Set\n",
    "query_set   = []\n",
    "query_label = []\n",
    "query_camId = []\n",
    "\n",
    "for i in query_idxs:\n",
    "    query_set.append( data[ i - 1] )\n",
    "    query_label.append( labels[ i - 1 ] )\n",
    "    query_camId.append( camIds[ i - 1 ] )\n",
    "    \n",
    "query_set   = np.asarray( query_set )\n",
    "query_label = np.asarray( query_label )\n",
    "query_camId = np.asarray( query_camId )\n",
    "\n",
    "print( '\\nQuery Set : {}'.format( query_set.shape ) )\n",
    "print( 'Query Label : {}'.format( query_label.shape ) )\n",
    "print( 'Query CamId : {}'.format( query_camId.shape ) )\n",
    "\n",
    "\n",
    "# Create Gallery Set\n",
    "gallery_set   = []\n",
    "gallery_label = []\n",
    "gallery_camId = []\n",
    "\n",
    "for i in gallery_idxs:\n",
    "    gallery_set.append( data[ i - 1] )\n",
    "    gallery_label.append( labels[ i - 1 ] )\n",
    "    gallery_camId.append( camIds[ i - 1 ] )\n",
    "    \n",
    "gallery_set   = np.asarray( gallery_set )\n",
    "gallery_label = np.asarray( gallery_label )\n",
    "gallery_camId = np.asarray( gallery_camId )\n",
    "\n",
    "print( '\\nGallery Set : {}'.format( gallery_set.shape ) )\n",
    "print( 'Gallery Label : {}'.format( gallery_label.shape ) )\n",
    "print( 'Gallery CamId : {}'.format( gallery_camId.shape ) )"
   ]
  },
  {
   "cell_type": "markdown",
   "metadata": {},
   "source": [
    "____\n",
    "\n",
    "## Create Augmented Query and Gallery Sets"
   ]
  },
  {
   "cell_type": "code",
   "execution_count": 104,
   "metadata": {},
   "outputs": [
    {
     "name": "stdout",
     "output_type": "stream",
     "text": [
      "Query Augmented: (1400, 2050)\n",
      "Gallery Augmented: (5328, 2050)\n"
     ]
    }
   ],
   "source": [
    "# Query Augmented\n",
    "qs = query_set.T\n",
    "\n",
    "query_augmented = np.vstack( ( qs, query_camId, query_label ) )\n",
    "query_augmented = query_augmented.T\n",
    "\n",
    "# Gallery Augmented\n",
    "gs = gallery_set.T\n",
    "\n",
    "gallery_augmented = np.vstack( ( gs, gallery_camId, gallery_label ) )\n",
    "gallery_augmented = gallery_augmented.T\n",
    "\n",
    "print( 'Query Augmented: {}'.format( query_augmented.shape ) )\n",
    "print( 'Gallery Augmented: {}'.format( gallery_augmented.shape ) )"
   ]
  },
  {
   "cell_type": "markdown",
   "metadata": {},
   "source": [
    "## KNN"
   ]
  },
  {
   "cell_type": "code",
   "execution_count": 64,
   "metadata": {},
   "outputs": [
    {
     "data": {
      "text/plain": [
       "KNeighborsClassifier(algorithm='auto', leaf_size=30, metric='euclidean',\n",
       "           metric_params=None, n_jobs=1, n_neighbors=1, p=2,\n",
       "           weights='uniform')"
      ]
     },
     "execution_count": 64,
     "metadata": {},
     "output_type": "execute_result"
    }
   ],
   "source": [
    "from sklearn.neighbors import KNeighborsClassifier\n",
    "\n",
    "# Load Data Set\n",
    "X = gallery_set\n",
    "Y = gallery_label\n",
    "\n",
    "neigh = KNeighborsClassifier( n_neighbors = 1, metric = 'euclidean' )\n",
    "neigh.fit( X, Y )"
   ]
  },
  {
   "cell_type": "code",
   "execution_count": 65,
   "metadata": {},
   "outputs": [],
   "source": [
    "Y_pred = neigh.predict( query_set )"
   ]
  },
  {
   "cell_type": "code",
   "execution_count": 66,
   "metadata": {},
   "outputs": [
    {
     "name": "stdout",
     "output_type": "stream",
     "text": [
      "Accuracy: 97.28571428571429\n"
     ]
    }
   ],
   "source": [
    "Accuracy = np.sum( Y_pred == query_label ) / query_label.shape[ 0 ] * 100\n",
    "\n",
    "print( 'Accuracy: {}'.format( Accuracy ) )"
   ]
  },
  {
   "cell_type": "code",
   "execution_count": 80,
   "metadata": {},
   "outputs": [
    {
     "data": {
      "image/png": "[encoded data removed]",
      "text/plain": [
       "<Figure size 432x288 with 1 Axes>"
      ]
     },
     "metadata": {
      "needs_background": "light"
     },
     "output_type": "display_data"
    }
   ],
   "source": [
    "vals, counts = np.unique( gallery_label, return_counts = True )\n",
    "\n",
    "plt.bar( vals, counts )\n",
    "plt.show()"
   ]
  },
  {
   "cell_type": "code",
   "execution_count": 84,
   "metadata": {},
   "outputs": [
    {
     "data": {
      "image/png": "[encoded data removed]",
      "text/plain": [
       "<Figure size 432x288 with 1 Axes>"
      ]
     },
     "metadata": {
      "needs_background": "light"
     },
     "output_type": "display_data"
    }
   ],
   "source": [
    "query_l, query_counts = np.unique( query_label, return_counts = True )\n",
    "\n",
    "plt.bar( query_l, query_counts.astype( int ) )\n",
    "plt.show()"
   ]
  }
 ],
 "metadata": {
  "kernelspec": {
   "display_name": "Python 3",
   "language": "python",
   "name": "python3"
  },
  "language_info": {
   "codemirror_mode": {
    "name": "ipython",
    "version": 3
   },
   "file_extension": ".py",
   "mimetype": "text/x-python",
   "name": "python",
   "nbconvert_exporter": "python",
   "pygments_lexer": "ipython3",
   "version": "3.7.0"
  }
 },
 "nbformat": 4,
 "nbformat_minor": 2
}
